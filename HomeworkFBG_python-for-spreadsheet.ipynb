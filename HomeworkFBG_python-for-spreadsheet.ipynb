{
  "nbformat": 4,
  "nbformat_minor": 0,
  "metadata": {
    "colab": {
      "name": "Copy of webinar_content_full.ipynb",
      "provenance": [],
      "include_colab_link": true
    },
    "kernelspec": {
      "name": "python3",
      "display_name": "Python 3"
    }
  },
  "cells": [
    {
      "cell_type": "markdown",
      "metadata": {
        "id": "view-in-github",
        "colab_type": "text"
      },
      "source": [
        "<a href=\"https://colab.research.google.com/github/fbga/python-for-spreadsheet-users-webinar/blob/master/HomeworkFBG_python-for-spreadsheet.ipynb\" target=\"_parent\"><img src=\"https://colab.research.google.com/assets/colab-badge.svg\" alt=\"Open In Colab\"/></a>"
      ]
    },
    {
      "cell_type": "markdown",
      "metadata": {
        "id": "upgA33i96krb",
        "colab_type": "text"
      },
      "source": [
        "<p align=\"center\">\n",
        "<img src=\"https://cdn.datacamp.com/main-app/assets/brand/datacamp-horizontal-rgb-b641f95b7bdd7560b554c761a0b4910f9619907dd823c0e41244ed72078723bf.svg\" alt = \"DataCamp icon\" width=\"50%\">\n",
        "</p>\n",
        "<br><br>\n",
        "\n",
        "## **How to transition from Spreadsheets to Python**\n",
        "\n",
        "\n",
        "Welcome to this live, hands-on training where you will learn how to upgrade from being a spreadsheet user to using Python. \n",
        "\n",
        "In most organizations across all industries, data fluency, technical skills and a data-driven mindset are becoming sought after skills that drive organizational success in the digital age. This shift has spurred on the adoption of tools that go beyond spreadsheets, which allow for more robust data analysis, visualization and presentation. In this notebook, you will learn:\n",
        "\n",
        "* How to import Excel files into `pandas`.\n",
        "* Filter, add new columns, and explore DataFrames.\n",
        "* Apply common spreadsheets operations such as pivot tables and VLOOKUP in Python.\n",
        "* Present data as visualizations using `matplotlib` and `seaborn`.\n",
        "\n",
        "The dataset to be used in this webinar is an Excel file named `sales_data_dirty.xlsx` - it contains 4 sheets, each containing the following columns:\n",
        "\n",
        "<br>\n",
        "\n",
        "\n",
        "\n",
        "![alt](https://github.com/adelnehme/python-for-spreadsheet-users-webinar/blob/master/image.png?raw=true)"
      ]
    },
    {
      "cell_type": "markdown",
      "metadata": {
        "id": "aAVUCIhQnvqx",
        "colab_type": "text"
      },
      "source": [
        "## **Getting started with the dataset**"
      ]
    },
    {
      "cell_type": "markdown",
      "metadata": {
        "id": "5mq4lDtxqLp6",
        "colab_type": "text"
      },
      "source": [
        "Similar to how you can download software (excel, tableau etc..) on your computer that allows you perform specific functions (data analysis, visualization ...) - Python has packages or modules that we download and install that allows to perform a set of tasks. We can also set aliases for these packages to shorten their name and make calling them more convenient."
      ]
    },
    {
      "cell_type": "code",
      "metadata": {
        "id": "-d04csgd6i0R",
        "colab_type": "code",
        "colab": {
          "base_uri": "https://localhost:8080/",
          "height": 71
        },
        "outputId": "7e4d349d-66b7-449b-c80f-563a2ae88ba8"
      },
      "source": [
        "# Import relevant packages\n",
        "import pandas as pd\n",
        "import matplotlib.pyplot as plt\n",
        "import seaborn as sns"
      ],
      "execution_count": 1,
      "outputs": [
        {
          "output_type": "stream",
          "text": [
            "/usr/local/lib/python3.6/dist-packages/statsmodels/tools/_testing.py:19: FutureWarning: pandas.util.testing is deprecated. Use the functions in the public API at pandas.testing instead.\n",
            "  import pandas.util.testing as tm\n"
          ],
          "name": "stderr"
        }
      ]
    },
    {
      "cell_type": "code",
      "metadata": {
        "id": "hgWlh8epiOij",
        "colab_type": "code",
        "colab": {}
      },
      "source": [
        "# Import the data\n",
        "data = pd.ExcelFile('https://github.com/adelnehme/python-for-spreadsheet-users-webinar/blob/master/sales_data_dirty.xlsx?raw=true')"
      ],
      "execution_count": 0,
      "outputs": []
    },
    {
      "cell_type": "code",
      "metadata": {
        "id": "EMa8uUlAidFk",
        "colab_type": "code",
        "outputId": "1771ebc2-e2fc-4c6c-bb5c-c2178ad6f46d",
        "colab": {
          "base_uri": "https://localhost:8080/",
          "height": 34
        }
      },
      "source": [
        "# Print the name of the sheets\n",
        "data.sheet_names"
      ],
      "execution_count": 3,
      "outputs": [
        {
          "output_type": "execute_result",
          "data": {
            "text/plain": [
              "['sales', 'customers', 'dates', 'employees']"
            ]
          },
          "metadata": {
            "tags": []
          },
          "execution_count": 3
        }
      ]
    },
    {
      "cell_type": "code",
      "metadata": {
        "id": "WlG46zdNidzz",
        "colab_type": "code",
        "outputId": "0aeb896f-73eb-4ed0-d3b8-3b80419e7a7e",
        "colab": {
          "base_uri": "https://localhost:8080/",
          "height": 221
        }
      },
      "source": [
        "# Parse sales data\n",
        "sales = data.parse('sales')\n",
        "# Print dimensions and glimpse\n",
        "print(sales.shape)\n",
        "sales.head(5)"
      ],
      "execution_count": 4,
      "outputs": [
        {
          "output_type": "stream",
          "text": [
            "(31465, 5)\n"
          ],
          "name": "stdout"
        },
        {
          "output_type": "execute_result",
          "data": {
            "text/html": [
              "<div>\n",
              "<style scoped>\n",
              "    .dataframe tbody tr th:only-of-type {\n",
              "        vertical-align: middle;\n",
              "    }\n",
              "\n",
              "    .dataframe tbody tr th {\n",
              "        vertical-align: top;\n",
              "    }\n",
              "\n",
              "    .dataframe thead th {\n",
              "        text-align: right;\n",
              "    }\n",
              "</style>\n",
              "<table border=\"1\" class=\"dataframe\">\n",
              "  <thead>\n",
              "    <tr style=\"text-align: right;\">\n",
              "      <th></th>\n",
              "      <th>SalesOrderID</th>\n",
              "      <th>TotalDue</th>\n",
              "      <th>NumberofItems</th>\n",
              "      <th>OnlineOrderFlag</th>\n",
              "      <th>Status</th>\n",
              "    </tr>\n",
              "  </thead>\n",
              "  <tbody>\n",
              "    <tr>\n",
              "      <th>0</th>\n",
              "      <td>43659</td>\n",
              "      <td>23153.2339</td>\n",
              "      <td>12</td>\n",
              "      <td>0</td>\n",
              "      <td>5</td>\n",
              "    </tr>\n",
              "    <tr>\n",
              "      <th>1</th>\n",
              "      <td>43660</td>\n",
              "      <td>1457.3288</td>\n",
              "      <td>2</td>\n",
              "      <td>0</td>\n",
              "      <td>5</td>\n",
              "    </tr>\n",
              "    <tr>\n",
              "      <th>2</th>\n",
              "      <td>43661</td>\n",
              "      <td>36865.8012</td>\n",
              "      <td>15</td>\n",
              "      <td>0</td>\n",
              "      <td>5</td>\n",
              "    </tr>\n",
              "    <tr>\n",
              "      <th>3</th>\n",
              "      <td>43662</td>\n",
              "      <td>32474.9324</td>\n",
              "      <td>22</td>\n",
              "      <td>0</td>\n",
              "      <td>5</td>\n",
              "    </tr>\n",
              "    <tr>\n",
              "      <th>4</th>\n",
              "      <td>43663</td>\n",
              "      <td>472.3108</td>\n",
              "      <td>1</td>\n",
              "      <td>0</td>\n",
              "      <td>5</td>\n",
              "    </tr>\n",
              "  </tbody>\n",
              "</table>\n",
              "</div>"
            ],
            "text/plain": [
              "   SalesOrderID    TotalDue  NumberofItems  OnlineOrderFlag  Status\n",
              "0         43659  23153.2339             12                0       5\n",
              "1         43660   1457.3288              2                0       5\n",
              "2         43661  36865.8012             15                0       5\n",
              "3         43662  32474.9324             22                0       5\n",
              "4         43663    472.3108              1                0       5"
            ]
          },
          "metadata": {
            "tags": []
          },
          "execution_count": 4
        }
      ]
    },
    {
      "cell_type": "code",
      "metadata": {
        "id": "HBJhclwIijLQ",
        "colab_type": "code",
        "outputId": "4f2ccfa3-2315-4ec4-d4fd-1e600fc05541",
        "colab": {
          "base_uri": "https://localhost:8080/",
          "height": 221
        }
      },
      "source": [
        "# Parse customers data \n",
        "customers = data.parse('customers')\n",
        "# Print dimensions and glimpse\n",
        "print(customers.shape)\n",
        "customers.head(5)"
      ],
      "execution_count": 5,
      "outputs": [
        {
          "output_type": "stream",
          "text": [
            "(31465, 6)\n"
          ],
          "name": "stdout"
        },
        {
          "output_type": "execute_result",
          "data": {
            "text/html": [
              "<div>\n",
              "<style scoped>\n",
              "    .dataframe tbody tr th:only-of-type {\n",
              "        vertical-align: middle;\n",
              "    }\n",
              "\n",
              "    .dataframe tbody tr th {\n",
              "        vertical-align: top;\n",
              "    }\n",
              "\n",
              "    .dataframe thead th {\n",
              "        text-align: right;\n",
              "    }\n",
              "</style>\n",
              "<table border=\"1\" class=\"dataframe\">\n",
              "  <thead>\n",
              "    <tr style=\"text-align: right;\">\n",
              "      <th></th>\n",
              "      <th>SalesOrderID</th>\n",
              "      <th>CustomerFirstName</th>\n",
              "      <th>CustomerLastName</th>\n",
              "      <th>EmployeeFirstName</th>\n",
              "      <th>EmployeeLastName</th>\n",
              "      <th>ChannelType</th>\n",
              "    </tr>\n",
              "  </thead>\n",
              "  <tbody>\n",
              "    <tr>\n",
              "      <th>0</th>\n",
              "      <td>43659</td>\n",
              "      <td>NaN</td>\n",
              "      <td>NaN</td>\n",
              "      <td>Tsvi</td>\n",
              "      <td>Reiter</td>\n",
              "      <td>NaN</td>\n",
              "    </tr>\n",
              "    <tr>\n",
              "      <th>1</th>\n",
              "      <td>43660</td>\n",
              "      <td>NaN</td>\n",
              "      <td>NaN</td>\n",
              "      <td>Tsvi</td>\n",
              "      <td>Reiter</td>\n",
              "      <td>NaN</td>\n",
              "    </tr>\n",
              "    <tr>\n",
              "      <th>2</th>\n",
              "      <td>43661</td>\n",
              "      <td>NaN</td>\n",
              "      <td>NaN</td>\n",
              "      <td>José</td>\n",
              "      <td>Saraiva</td>\n",
              "      <td>NaN</td>\n",
              "    </tr>\n",
              "    <tr>\n",
              "      <th>3</th>\n",
              "      <td>43662</td>\n",
              "      <td>NaN</td>\n",
              "      <td>NaN</td>\n",
              "      <td>José</td>\n",
              "      <td>Saraiva</td>\n",
              "      <td>NaN</td>\n",
              "    </tr>\n",
              "    <tr>\n",
              "      <th>4</th>\n",
              "      <td>43663</td>\n",
              "      <td>NaN</td>\n",
              "      <td>NaN</td>\n",
              "      <td>Linda</td>\n",
              "      <td>Mitchell</td>\n",
              "      <td>NaN</td>\n",
              "    </tr>\n",
              "  </tbody>\n",
              "</table>\n",
              "</div>"
            ],
            "text/plain": [
              "   SalesOrderID CustomerFirstName  ... EmployeeLastName ChannelType\n",
              "0         43659               NaN  ...           Reiter         NaN\n",
              "1         43660               NaN  ...           Reiter         NaN\n",
              "2         43661               NaN  ...          Saraiva         NaN\n",
              "3         43662               NaN  ...          Saraiva         NaN\n",
              "4         43663               NaN  ...         Mitchell         NaN\n",
              "\n",
              "[5 rows x 6 columns]"
            ]
          },
          "metadata": {
            "tags": []
          },
          "execution_count": 5
        }
      ]
    },
    {
      "cell_type": "markdown",
      "metadata": {
        "id": "WDAKYjP57y5I",
        "colab_type": "text"
      },
      "source": [
        "***Insight 1:*** There is missing data for `CustomerFirstName`, `CustomerLastName`, `EmployeeFirstName`, `EmployeeLastName` and `ChannelType` - we need to better understand the mechanisms of why this data is missing and how to best approach it.\n",
        "\n",
        "***Insight 2:*** Ultimately, we wanto to evaluate employees by their performance, so might as well combine first name and last name columns into their full name before doing any analysis."
      ]
    },
    {
      "cell_type": "code",
      "metadata": {
        "id": "eLRqU9yVj8lk",
        "colab_type": "code",
        "outputId": "3d6e4750-76f5-410d-8c46-a3412817720d",
        "colab": {
          "base_uri": "https://localhost:8080/",
          "height": 221
        }
      },
      "source": [
        "# Parse dates data\n",
        "dates = data.parse('dates')\n",
        "# Print dimensions and glimpse\n",
        "print(dates.shape)\n",
        "dates.head(5)"
      ],
      "execution_count": 6,
      "outputs": [
        {
          "output_type": "stream",
          "text": [
            "(31465, 3)\n"
          ],
          "name": "stdout"
        },
        {
          "output_type": "execute_result",
          "data": {
            "text/html": [
              "<div>\n",
              "<style scoped>\n",
              "    .dataframe tbody tr th:only-of-type {\n",
              "        vertical-align: middle;\n",
              "    }\n",
              "\n",
              "    .dataframe tbody tr th {\n",
              "        vertical-align: top;\n",
              "    }\n",
              "\n",
              "    .dataframe thead th {\n",
              "        text-align: right;\n",
              "    }\n",
              "</style>\n",
              "<table border=\"1\" class=\"dataframe\">\n",
              "  <thead>\n",
              "    <tr style=\"text-align: right;\">\n",
              "      <th></th>\n",
              "      <th>SalesOrderID</th>\n",
              "      <th>OrderDate</th>\n",
              "      <th>ShipDate</th>\n",
              "    </tr>\n",
              "  </thead>\n",
              "  <tbody>\n",
              "    <tr>\n",
              "      <th>0</th>\n",
              "      <td>43659</td>\n",
              "      <td>2011-05-31 00:00:00</td>\n",
              "      <td>2011-06-07 00:00:00</td>\n",
              "    </tr>\n",
              "    <tr>\n",
              "      <th>1</th>\n",
              "      <td>43660</td>\n",
              "      <td>2011-05-31 00:00:00</td>\n",
              "      <td>2011-06-07 00:00:00</td>\n",
              "    </tr>\n",
              "    <tr>\n",
              "      <th>2</th>\n",
              "      <td>43661</td>\n",
              "      <td>2011-05-31 00:00:00</td>\n",
              "      <td>2011-06-07 00:00:00</td>\n",
              "    </tr>\n",
              "    <tr>\n",
              "      <th>3</th>\n",
              "      <td>43662</td>\n",
              "      <td>2011-05-31 00:00:00</td>\n",
              "      <td>2011-06-07 00:00:00</td>\n",
              "    </tr>\n",
              "    <tr>\n",
              "      <th>4</th>\n",
              "      <td>43663</td>\n",
              "      <td>2011-05-31 00:00:00</td>\n",
              "      <td>2011-06-07 00:00:00</td>\n",
              "    </tr>\n",
              "  </tbody>\n",
              "</table>\n",
              "</div>"
            ],
            "text/plain": [
              "   SalesOrderID            OrderDate             ShipDate\n",
              "0         43659  2011-05-31 00:00:00  2011-06-07 00:00:00\n",
              "1         43660  2011-05-31 00:00:00  2011-06-07 00:00:00\n",
              "2         43661  2011-05-31 00:00:00  2011-06-07 00:00:00\n",
              "3         43662  2011-05-31 00:00:00  2011-06-07 00:00:00\n",
              "4         43663  2011-05-31 00:00:00  2011-06-07 00:00:00"
            ]
          },
          "metadata": {
            "tags": []
          },
          "execution_count": 6
        }
      ]
    },
    {
      "cell_type": "markdown",
      "metadata": {
        "id": "1dZ0S4SnQeb_",
        "colab_type": "text"
      },
      "source": [
        "***Insight 3:*** When looking at date variables in Python and in pandas DataFrames - it's always good to remember the `datetime` data type that allows better manipulation of date variables."
      ]
    },
    {
      "cell_type": "code",
      "metadata": {
        "id": "dzdHh12loRMq",
        "colab_type": "code",
        "outputId": "39e9cced-c0fc-46c4-b035-d033aacf39da",
        "colab": {
          "base_uri": "https://localhost:8080/",
          "height": 221
        }
      },
      "source": [
        "# Parse employees data\n",
        "employees = data.parse('employees')\n",
        "# Print dimensions and glimpse\n",
        "print(employees.shape)\n",
        "employees.head(5)"
      ],
      "execution_count": 7,
      "outputs": [
        {
          "output_type": "stream",
          "text": [
            "(17, 5)\n"
          ],
          "name": "stdout"
        },
        {
          "output_type": "execute_result",
          "data": {
            "text/html": [
              "<div>\n",
              "<style scoped>\n",
              "    .dataframe tbody tr th:only-of-type {\n",
              "        vertical-align: middle;\n",
              "    }\n",
              "\n",
              "    .dataframe tbody tr th {\n",
              "        vertical-align: top;\n",
              "    }\n",
              "\n",
              "    .dataframe thead th {\n",
              "        text-align: right;\n",
              "    }\n",
              "</style>\n",
              "<table border=\"1\" class=\"dataframe\">\n",
              "  <thead>\n",
              "    <tr style=\"text-align: right;\">\n",
              "      <th></th>\n",
              "      <th>FirstName</th>\n",
              "      <th>LastName</th>\n",
              "      <th>CountryCode</th>\n",
              "      <th>RegionName</th>\n",
              "      <th>CommissionPct</th>\n",
              "    </tr>\n",
              "  </thead>\n",
              "  <tbody>\n",
              "    <tr>\n",
              "      <th>0</th>\n",
              "      <td>Amy</td>\n",
              "      <td>Alberts</td>\n",
              "      <td>GB</td>\n",
              "      <td>United Kingdom</td>\n",
              "      <td>0.000</td>\n",
              "    </tr>\n",
              "    <tr>\n",
              "      <th>1</th>\n",
              "      <td>David</td>\n",
              "      <td>Campbell</td>\n",
              "      <td>US</td>\n",
              "      <td>Northwest</td>\n",
              "      <td>0.012</td>\n",
              "    </tr>\n",
              "    <tr>\n",
              "      <th>2</th>\n",
              "      <td>Garrett</td>\n",
              "      <td>Vargas</td>\n",
              "      <td>CA</td>\n",
              "      <td>Canada</td>\n",
              "      <td>0.010</td>\n",
              "    </tr>\n",
              "    <tr>\n",
              "      <th>3</th>\n",
              "      <td>Jae</td>\n",
              "      <td>Pak</td>\n",
              "      <td>CA</td>\n",
              "      <td>Canada</td>\n",
              "      <td>0.020</td>\n",
              "    </tr>\n",
              "    <tr>\n",
              "      <th>4</th>\n",
              "      <td>Jillian</td>\n",
              "      <td>Carson</td>\n",
              "      <td>US</td>\n",
              "      <td>Southwest</td>\n",
              "      <td>0.015</td>\n",
              "    </tr>\n",
              "  </tbody>\n",
              "</table>\n",
              "</div>"
            ],
            "text/plain": [
              "  FirstName  LastName CountryCode      RegionName  CommissionPct\n",
              "0       Amy   Alberts          GB  United Kingdom          0.000\n",
              "1     David  Campbell          US       Northwest          0.012\n",
              "2   Garrett    Vargas          CA          Canada          0.010\n",
              "3       Jae       Pak          CA          Canada          0.020\n",
              "4   Jillian    Carson          US       Southwest          0.015"
            ]
          },
          "metadata": {
            "tags": []
          },
          "execution_count": 7
        }
      ]
    },
    {
      "cell_type": "markdown",
      "metadata": {
        "id": "SOJbq0UM8Ktk",
        "colab_type": "text"
      },
      "source": [
        "## **Better understanding our data**\n"
      ]
    },
    {
      "cell_type": "markdown",
      "metadata": {
        "id": "tA-yPFUo2wd8",
        "colab_type": "text"
      },
      "source": [
        "Some important and common methods needed to get a better understanding of DataFrames are the following: \n",
        "\n",
        "- `.info()` provides a bird's eye view of column data types and missing values\n",
        "- `.describe()` returns a distribution of numeric columns in your DataFrame\n",
        "- `.unique()` gives out the number of unique values in a column"
      ]
    },
    {
      "cell_type": "code",
      "metadata": {
        "id": "yyhXh1iL4IsA",
        "colab_type": "code",
        "outputId": "7f612d4b-c63a-46ec-876d-96e4a0ff0e75",
        "colab": {
          "base_uri": "https://localhost:8080/",
          "height": 221
        }
      },
      "source": [
        "# Understand missingness of sales data\n",
        "sales.info()"
      ],
      "execution_count": 8,
      "outputs": [
        {
          "output_type": "stream",
          "text": [
            "<class 'pandas.core.frame.DataFrame'>\n",
            "RangeIndex: 31465 entries, 0 to 31464\n",
            "Data columns (total 5 columns):\n",
            " #   Column           Non-Null Count  Dtype  \n",
            "---  ------           --------------  -----  \n",
            " 0   SalesOrderID     31465 non-null  int64  \n",
            " 1   TotalDue         31465 non-null  float64\n",
            " 2   NumberofItems    31465 non-null  int64  \n",
            " 3   OnlineOrderFlag  31465 non-null  int64  \n",
            " 4   Status           31465 non-null  int64  \n",
            "dtypes: float64(1), int64(4)\n",
            "memory usage: 1.2 MB\n"
          ],
          "name": "stdout"
        }
      ]
    },
    {
      "cell_type": "markdown",
      "metadata": {
        "id": "R4GH18VppRjr",
        "colab_type": "text"
      },
      "source": [
        "***Insight 4:*** There is no missing data or nothing out of the ordinary in this dataset so far. Let's dig deeper."
      ]
    },
    {
      "cell_type": "code",
      "metadata": {
        "id": "YtPmjfN54KsL",
        "colab_type": "code",
        "outputId": "53f73ad5-d4dd-4edd-d2ca-d51b5590049d",
        "colab": {
          "base_uri": "https://localhost:8080/",
          "height": 297
        }
      },
      "source": [
        "# Understand distribution of sales data\n",
        "sales.describe()"
      ],
      "execution_count": 9,
      "outputs": [
        {
          "output_type": "execute_result",
          "data": {
            "text/html": [
              "<div>\n",
              "<style scoped>\n",
              "    .dataframe tbody tr th:only-of-type {\n",
              "        vertical-align: middle;\n",
              "    }\n",
              "\n",
              "    .dataframe tbody tr th {\n",
              "        vertical-align: top;\n",
              "    }\n",
              "\n",
              "    .dataframe thead th {\n",
              "        text-align: right;\n",
              "    }\n",
              "</style>\n",
              "<table border=\"1\" class=\"dataframe\">\n",
              "  <thead>\n",
              "    <tr style=\"text-align: right;\">\n",
              "      <th></th>\n",
              "      <th>SalesOrderID</th>\n",
              "      <th>TotalDue</th>\n",
              "      <th>NumberofItems</th>\n",
              "      <th>OnlineOrderFlag</th>\n",
              "      <th>Status</th>\n",
              "    </tr>\n",
              "  </thead>\n",
              "  <tbody>\n",
              "    <tr>\n",
              "      <th>count</th>\n",
              "      <td>31465.000000</td>\n",
              "      <td>31465.000000</td>\n",
              "      <td>31465.000000</td>\n",
              "      <td>31465.000000</td>\n",
              "      <td>31465.0</td>\n",
              "    </tr>\n",
              "    <tr>\n",
              "      <th>mean</th>\n",
              "      <td>59391.000000</td>\n",
              "      <td>3915.995109</td>\n",
              "      <td>3.855617</td>\n",
              "      <td>0.879040</td>\n",
              "      <td>5.0</td>\n",
              "    </tr>\n",
              "    <tr>\n",
              "      <th>std</th>\n",
              "      <td>9083.307446</td>\n",
              "      <td>12515.462713</td>\n",
              "      <td>7.214877</td>\n",
              "      <td>0.326086</td>\n",
              "      <td>0.0</td>\n",
              "    </tr>\n",
              "    <tr>\n",
              "      <th>min</th>\n",
              "      <td>43659.000000</td>\n",
              "      <td>1.518300</td>\n",
              "      <td>1.000000</td>\n",
              "      <td>0.000000</td>\n",
              "      <td>5.0</td>\n",
              "    </tr>\n",
              "    <tr>\n",
              "      <th>25%</th>\n",
              "      <td>51525.000000</td>\n",
              "      <td>62.951900</td>\n",
              "      <td>1.000000</td>\n",
              "      <td>1.000000</td>\n",
              "      <td>5.0</td>\n",
              "    </tr>\n",
              "    <tr>\n",
              "      <th>50%</th>\n",
              "      <td>59391.000000</td>\n",
              "      <td>865.204000</td>\n",
              "      <td>2.000000</td>\n",
              "      <td>1.000000</td>\n",
              "      <td>5.0</td>\n",
              "    </tr>\n",
              "    <tr>\n",
              "      <th>75%</th>\n",
              "      <td>67257.000000</td>\n",
              "      <td>2615.490800</td>\n",
              "      <td>3.000000</td>\n",
              "      <td>1.000000</td>\n",
              "      <td>5.0</td>\n",
              "    </tr>\n",
              "    <tr>\n",
              "      <th>max</th>\n",
              "      <td>75123.000000</td>\n",
              "      <td>187487.825000</td>\n",
              "      <td>72.000000</td>\n",
              "      <td>1.000000</td>\n",
              "      <td>5.0</td>\n",
              "    </tr>\n",
              "  </tbody>\n",
              "</table>\n",
              "</div>"
            ],
            "text/plain": [
              "       SalesOrderID       TotalDue  NumberofItems  OnlineOrderFlag   Status\n",
              "count  31465.000000   31465.000000   31465.000000     31465.000000  31465.0\n",
              "mean   59391.000000    3915.995109       3.855617         0.879040      5.0\n",
              "std     9083.307446   12515.462713       7.214877         0.326086      0.0\n",
              "min    43659.000000       1.518300       1.000000         0.000000      5.0\n",
              "25%    51525.000000      62.951900       1.000000         1.000000      5.0\n",
              "50%    59391.000000     865.204000       2.000000         1.000000      5.0\n",
              "75%    67257.000000    2615.490800       3.000000         1.000000      5.0\n",
              "max    75123.000000  187487.825000      72.000000         1.000000      5.0"
            ]
          },
          "metadata": {
            "tags": []
          },
          "execution_count": 9
        }
      ]
    },
    {
      "cell_type": "markdown",
      "metadata": {
        "id": "pSuFj24cpa6V",
        "colab_type": "text"
      },
      "source": [
        "***Insight 5:*** Taking a look at the `Status` column, we notice that the minimum, maximmum, mean are the same, meaning there's no variability in that column. The `OnlineOrderFlag` column seems to be binary 1,0.\n",
        "\n",
        "We're gonna have to rename the `OnlineOrderFlag` column to make it more readable, and drop `Status` if it's constant."
      ]
    },
    {
      "cell_type": "code",
      "metadata": {
        "id": "Zv7IKkZ74Kzr",
        "colab_type": "code",
        "outputId": "e396a83a-9dd4-4fae-9aac-75ca34476b3b",
        "colab": {
          "base_uri": "https://localhost:8080/",
          "height": 51
        }
      },
      "source": [
        "# Make sure Status column has no other unique values\n",
        "print(sales['Status'].unique())\n",
        "print(sales['OnlineOrderFlag'].unique())"
      ],
      "execution_count": 10,
      "outputs": [
        {
          "output_type": "stream",
          "text": [
            "[5]\n",
            "[0 1]\n"
          ],
          "name": "stdout"
        }
      ]
    },
    {
      "cell_type": "code",
      "metadata": {
        "id": "4LXx9pOH4Lem",
        "colab_type": "code",
        "outputId": "35352ed3-d46f-46ef-e8b6-421ffab9ad57",
        "colab": {
          "base_uri": "https://localhost:8080/",
          "height": 187
        }
      },
      "source": [
        "# Understand column types of dates and missingness\n",
        "dates.info()"
      ],
      "execution_count": 11,
      "outputs": [
        {
          "output_type": "stream",
          "text": [
            "<class 'pandas.core.frame.DataFrame'>\n",
            "RangeIndex: 31465 entries, 0 to 31464\n",
            "Data columns (total 3 columns):\n",
            " #   Column        Non-Null Count  Dtype \n",
            "---  ------        --------------  ----- \n",
            " 0   SalesOrderID  31465 non-null  int64 \n",
            " 1   OrderDate     31465 non-null  object\n",
            " 2   ShipDate      31465 non-null  object\n",
            "dtypes: int64(1), object(2)\n",
            "memory usage: 737.6+ KB\n"
          ],
          "name": "stdout"
        }
      ]
    },
    {
      "cell_type": "markdown",
      "metadata": {
        "id": "SXnHFAPkBYYx",
        "colab_type": "text"
      },
      "source": [
        "***Insight 6:*** Confirming our initial hunch, the `OrderDate` and `ShipDate` columns are not `datetime` objects. So we will need to convert it into that."
      ]
    },
    {
      "cell_type": "code",
      "metadata": {
        "id": "Di0X2oT04Lcd",
        "colab_type": "code",
        "outputId": "54db0ab2-22ff-435a-a6d4-c3e8a3dda9aa",
        "colab": {
          "base_uri": "https://localhost:8080/",
          "height": 238
        }
      },
      "source": [
        "# Let's understand the degree of missingness in customers dataset\n",
        "customers.info()"
      ],
      "execution_count": 12,
      "outputs": [
        {
          "output_type": "stream",
          "text": [
            "<class 'pandas.core.frame.DataFrame'>\n",
            "RangeIndex: 31465 entries, 0 to 31464\n",
            "Data columns (total 6 columns):\n",
            " #   Column             Non-Null Count  Dtype \n",
            "---  ------             --------------  ----- \n",
            " 0   SalesOrderID       31465 non-null  int64 \n",
            " 1   CustomerFirstName  17463 non-null  object\n",
            " 2   CustomerLastName   17463 non-null  object\n",
            " 3   EmployeeFirstName  3806 non-null   object\n",
            " 4   EmployeeLastName   3806 non-null   object\n",
            " 5   ChannelType        17463 non-null  object\n",
            "dtypes: int64(1), object(5)\n",
            "memory usage: 1.4+ MB\n"
          ],
          "name": "stdout"
        }
      ]
    },
    {
      "cell_type": "code",
      "metadata": {
        "id": "RPAMIxLxS7aO",
        "colab_type": "code",
        "outputId": "e167c9ed-1c84-4331-e2b3-c178112800e1",
        "colab": {
          "base_uri": "https://localhost:8080/",
          "height": 136
        }
      },
      "source": [
        "# How to find missing values?\n",
        "customers.isna().sum()"
      ],
      "execution_count": 13,
      "outputs": [
        {
          "output_type": "execute_result",
          "data": {
            "text/plain": [
              "SalesOrderID             0\n",
              "CustomerFirstName    14002\n",
              "CustomerLastName     14002\n",
              "EmployeeFirstName    27659\n",
              "EmployeeLastName     27659\n",
              "ChannelType          14002\n",
              "dtype: int64"
            ]
          },
          "metadata": {
            "tags": []
          },
          "execution_count": 13
        }
      ]
    },
    {
      "cell_type": "markdown",
      "metadata": {
        "id": "9fE9EdgyByp8",
        "colab_type": "text"
      },
      "source": [
        "***Insight 7:*** We notice that both customer, employee names and channel type contain missing data. Data can be missing for a variety of reasons, ranging from random to non-random causes. As such, treating missing data is highly case dependent with solutions ranging from:\n",
        "* Dropping missing data\n",
        "* Imputing with statistical measures such as mean, median and mode\n",
        "* Algorithmic imputations relying on machine learning \n",
        "* Imputation using rules that fit the business case\n",
        "\n",
        "In this case, the customer name is not present for B2B purchases by design - and that B2C purchases don't have employees attached to them also by design - meaning from these rules we can impute the `ChannelType` variable."
      ]
    },
    {
      "cell_type": "markdown",
      "metadata": {
        "id": "W23hMUxKErvf",
        "colab_type": "text"
      },
      "source": [
        "## **Making our data analysis ready**\n"
      ]
    },
    {
      "cell_type": "markdown",
      "metadata": {
        "id": "LDsVXQUNUFon",
        "colab_type": "text"
      },
      "source": [
        "***Insight 5*** taught us that the `Status` column from the `sales` sheet is not really useful - so let's drop it! "
      ]
    },
    {
      "cell_type": "code",
      "metadata": {
        "id": "6wZ7nyJj4LaW",
        "colab_type": "code",
        "outputId": "bbeed6b7-2a74-4f40-921b-d441e839c39d",
        "colab": {
          "base_uri": "https://localhost:8080/",
          "height": 204
        }
      },
      "source": [
        "# Drop status column from sales\n",
        "sales.drop('Status', axis = 1, inplace = True)\n",
        "sales.info()"
      ],
      "execution_count": 14,
      "outputs": [
        {
          "output_type": "stream",
          "text": [
            "<class 'pandas.core.frame.DataFrame'>\n",
            "RangeIndex: 31465 entries, 0 to 31464\n",
            "Data columns (total 4 columns):\n",
            " #   Column           Non-Null Count  Dtype  \n",
            "---  ------           --------------  -----  \n",
            " 0   SalesOrderID     31465 non-null  int64  \n",
            " 1   TotalDue         31465 non-null  float64\n",
            " 2   NumberofItems    31465 non-null  int64  \n",
            " 3   OnlineOrderFlag  31465 non-null  int64  \n",
            "dtypes: float64(1), int64(3)\n",
            "memory usage: 983.4 KB\n"
          ],
          "name": "stdout"
        }
      ]
    },
    {
      "cell_type": "markdown",
      "metadata": {
        "id": "YsIgoOLFUhOi",
        "colab_type": "text"
      },
      "source": [
        "***Insight 5*** taught us that the `OnlineOrderFlag` column from the `sales` sheet is a binary variable with the values `0`,`1` - let''s replace the values with something a bit more readable."
      ]
    },
    {
      "cell_type": "code",
      "metadata": {
        "id": "3b1XNVRd4LY8",
        "colab_type": "code",
        "outputId": "3aa93ab4-fa1f-4ad5-ad8e-7f2272767111",
        "colab": {
          "base_uri": "https://localhost:8080/",
          "height": 34
        }
      },
      "source": [
        "# Replace OnlineOrderFlag to offline and online\n",
        "sales['OnlineOrderFlag'] = sales['OnlineOrderFlag'].replace({0: \"offline\", \n",
        "                                                             1: \"online\"})\n",
        "# Make sure it is the case\n",
        "sales['OnlineOrderFlag'].unique()"
      ],
      "execution_count": 15,
      "outputs": [
        {
          "output_type": "execute_result",
          "data": {
            "text/plain": [
              "array(['offline', 'online'], dtype=object)"
            ]
          },
          "metadata": {
            "tags": []
          },
          "execution_count": 15
        }
      ]
    },
    {
      "cell_type": "markdown",
      "metadata": {
        "id": "PkqN7BnIU9a_",
        "colab_type": "text"
      },
      "source": [
        "***Insight 6*** taught us that the `OrderDate` and `ShipDate` columns from the `dates` sheet are not `datetime` objects - so let's convert them to that! "
      ]
    },
    {
      "cell_type": "code",
      "metadata": {
        "id": "SjRVVWDk4LWI",
        "colab_type": "code",
        "colab": {}
      },
      "source": [
        "# Convert data columns to datetime while keeping only Y,m,d\n",
        "dates['OrderDate']= pd.to_datetime(dates['OrderDate'], format = '%Y-%m-%d') \n",
        "dates['ShipDate']= pd.to_datetime(dates['ShipDate'], format = '%Y-%m-%d') "
      ],
      "execution_count": 0,
      "outputs": []
    },
    {
      "cell_type": "code",
      "metadata": {
        "id": "LXUpSdHX4LSq",
        "colab_type": "code",
        "outputId": "b85b2b93-c025-4858-d1b1-d9a97f8502bf",
        "colab": {
          "base_uri": "https://localhost:8080/",
          "height": 187
        }
      },
      "source": [
        "# Make sure now into datetime\n",
        "dates.info()"
      ],
      "execution_count": 17,
      "outputs": [
        {
          "output_type": "stream",
          "text": [
            "<class 'pandas.core.frame.DataFrame'>\n",
            "RangeIndex: 31465 entries, 0 to 31464\n",
            "Data columns (total 3 columns):\n",
            " #   Column        Non-Null Count  Dtype         \n",
            "---  ------        --------------  -----         \n",
            " 0   SalesOrderID  31465 non-null  int64         \n",
            " 1   OrderDate     31465 non-null  datetime64[ns]\n",
            " 2   ShipDate      31465 non-null  datetime64[ns]\n",
            "dtypes: datetime64[ns](2), int64(1)\n",
            "memory usage: 737.6 KB\n"
          ],
          "name": "stdout"
        }
      ]
    },
    {
      "cell_type": "markdown",
      "metadata": {
        "id": "IcX43IASVbyt",
        "colab_type": "text"
      },
      "source": [
        "***Insight 7*** taught us that missing data can be found for a variety of reasons, and that imputing them can be done in many ways, including creating rules that fit the business case behind the data and require some domain-knowledge. The `ChannelType` column has been imputed to reflect:\n",
        "\n",
        "- If `EmployeeFirstName` missing --> B2C purchase\n",
        "- If `EmployeeFirstName` not missing --> B2B purchase "
      ]
    },
    {
      "cell_type": "code",
      "metadata": {
        "id": "u1ND9J_54LNq",
        "colab_type": "code",
        "colab": {}
      },
      "source": [
        "# Impute missing values based on key business assumptions\n",
        "customers.loc[customers['EmployeeFirstName'].isnull(), 'ChannelType'] = \"B2C\"\n",
        "customers.loc[customers['EmployeeFirstName'].notnull(), 'ChannelType'] = \"B2B\""
      ],
      "execution_count": 0,
      "outputs": []
    },
    {
      "cell_type": "code",
      "metadata": {
        "id": "3KxSjVAU4LLF",
        "colab_type": "code",
        "outputId": "2fe60fda-5b82-4c41-d769-02373333f114",
        "colab": {
          "base_uri": "https://localhost:8080/",
          "height": 238
        }
      },
      "source": [
        "# Make sure no more missing data in ChannelType\n",
        "customers.info()"
      ],
      "execution_count": 19,
      "outputs": [
        {
          "output_type": "stream",
          "text": [
            "<class 'pandas.core.frame.DataFrame'>\n",
            "RangeIndex: 31465 entries, 0 to 31464\n",
            "Data columns (total 6 columns):\n",
            " #   Column             Non-Null Count  Dtype \n",
            "---  ------             --------------  ----- \n",
            " 0   SalesOrderID       31465 non-null  int64 \n",
            " 1   CustomerFirstName  17463 non-null  object\n",
            " 2   CustomerLastName   17463 non-null  object\n",
            " 3   EmployeeFirstName  3806 non-null   object\n",
            " 4   EmployeeLastName   3806 non-null   object\n",
            " 5   ChannelType        31465 non-null  object\n",
            "dtypes: int64(1), object(5)\n",
            "memory usage: 1.4+ MB\n"
          ],
          "name": "stdout"
        }
      ]
    },
    {
      "cell_type": "code",
      "metadata": {
        "id": "BBPuJn114LIW",
        "colab_type": "code",
        "outputId": "871b1482-5776-42fc-edc3-dcddebae48e4",
        "colab": {
          "base_uri": "https://localhost:8080/",
          "height": 204
        }
      },
      "source": [
        "# Combine first and last name in customers\n",
        "customers['EmployeeFullName'] = customers['EmployeeFirstName'] + ' ' + customers['EmployeeLastName']\n",
        "customers.head()"
      ],
      "execution_count": 20,
      "outputs": [
        {
          "output_type": "execute_result",
          "data": {
            "text/html": [
              "<div>\n",
              "<style scoped>\n",
              "    .dataframe tbody tr th:only-of-type {\n",
              "        vertical-align: middle;\n",
              "    }\n",
              "\n",
              "    .dataframe tbody tr th {\n",
              "        vertical-align: top;\n",
              "    }\n",
              "\n",
              "    .dataframe thead th {\n",
              "        text-align: right;\n",
              "    }\n",
              "</style>\n",
              "<table border=\"1\" class=\"dataframe\">\n",
              "  <thead>\n",
              "    <tr style=\"text-align: right;\">\n",
              "      <th></th>\n",
              "      <th>SalesOrderID</th>\n",
              "      <th>CustomerFirstName</th>\n",
              "      <th>CustomerLastName</th>\n",
              "      <th>EmployeeFirstName</th>\n",
              "      <th>EmployeeLastName</th>\n",
              "      <th>ChannelType</th>\n",
              "      <th>EmployeeFullName</th>\n",
              "    </tr>\n",
              "  </thead>\n",
              "  <tbody>\n",
              "    <tr>\n",
              "      <th>0</th>\n",
              "      <td>43659</td>\n",
              "      <td>NaN</td>\n",
              "      <td>NaN</td>\n",
              "      <td>Tsvi</td>\n",
              "      <td>Reiter</td>\n",
              "      <td>B2B</td>\n",
              "      <td>Tsvi Reiter</td>\n",
              "    </tr>\n",
              "    <tr>\n",
              "      <th>1</th>\n",
              "      <td>43660</td>\n",
              "      <td>NaN</td>\n",
              "      <td>NaN</td>\n",
              "      <td>Tsvi</td>\n",
              "      <td>Reiter</td>\n",
              "      <td>B2B</td>\n",
              "      <td>Tsvi Reiter</td>\n",
              "    </tr>\n",
              "    <tr>\n",
              "      <th>2</th>\n",
              "      <td>43661</td>\n",
              "      <td>NaN</td>\n",
              "      <td>NaN</td>\n",
              "      <td>José</td>\n",
              "      <td>Saraiva</td>\n",
              "      <td>B2B</td>\n",
              "      <td>José Saraiva</td>\n",
              "    </tr>\n",
              "    <tr>\n",
              "      <th>3</th>\n",
              "      <td>43662</td>\n",
              "      <td>NaN</td>\n",
              "      <td>NaN</td>\n",
              "      <td>José</td>\n",
              "      <td>Saraiva</td>\n",
              "      <td>B2B</td>\n",
              "      <td>José Saraiva</td>\n",
              "    </tr>\n",
              "    <tr>\n",
              "      <th>4</th>\n",
              "      <td>43663</td>\n",
              "      <td>NaN</td>\n",
              "      <td>NaN</td>\n",
              "      <td>Linda</td>\n",
              "      <td>Mitchell</td>\n",
              "      <td>B2B</td>\n",
              "      <td>Linda Mitchell</td>\n",
              "    </tr>\n",
              "  </tbody>\n",
              "</table>\n",
              "</div>"
            ],
            "text/plain": [
              "   SalesOrderID CustomerFirstName  ... ChannelType EmployeeFullName\n",
              "0         43659               NaN  ...         B2B      Tsvi Reiter\n",
              "1         43660               NaN  ...         B2B      Tsvi Reiter\n",
              "2         43661               NaN  ...         B2B     José Saraiva\n",
              "3         43662               NaN  ...         B2B     José Saraiva\n",
              "4         43663               NaN  ...         B2B   Linda Mitchell\n",
              "\n",
              "[5 rows x 7 columns]"
            ]
          },
          "metadata": {
            "tags": []
          },
          "execution_count": 20
        }
      ]
    },
    {
      "cell_type": "code",
      "metadata": {
        "id": "uL_a6Z3irY7G",
        "colab_type": "code",
        "outputId": "7b30675f-7bdc-4810-843d-f66314bc2707",
        "colab": {
          "base_uri": "https://localhost:8080/",
          "height": 204
        }
      },
      "source": [
        "# Combine first and last name in employees\n",
        "employees['FullName'] = employees['FirstName'] + ' ' + employees['LastName']\n",
        "employees.head()"
      ],
      "execution_count": 21,
      "outputs": [
        {
          "output_type": "execute_result",
          "data": {
            "text/html": [
              "<div>\n",
              "<style scoped>\n",
              "    .dataframe tbody tr th:only-of-type {\n",
              "        vertical-align: middle;\n",
              "    }\n",
              "\n",
              "    .dataframe tbody tr th {\n",
              "        vertical-align: top;\n",
              "    }\n",
              "\n",
              "    .dataframe thead th {\n",
              "        text-align: right;\n",
              "    }\n",
              "</style>\n",
              "<table border=\"1\" class=\"dataframe\">\n",
              "  <thead>\n",
              "    <tr style=\"text-align: right;\">\n",
              "      <th></th>\n",
              "      <th>FirstName</th>\n",
              "      <th>LastName</th>\n",
              "      <th>CountryCode</th>\n",
              "      <th>RegionName</th>\n",
              "      <th>CommissionPct</th>\n",
              "      <th>FullName</th>\n",
              "    </tr>\n",
              "  </thead>\n",
              "  <tbody>\n",
              "    <tr>\n",
              "      <th>0</th>\n",
              "      <td>Amy</td>\n",
              "      <td>Alberts</td>\n",
              "      <td>GB</td>\n",
              "      <td>United Kingdom</td>\n",
              "      <td>0.000</td>\n",
              "      <td>Amy Alberts</td>\n",
              "    </tr>\n",
              "    <tr>\n",
              "      <th>1</th>\n",
              "      <td>David</td>\n",
              "      <td>Campbell</td>\n",
              "      <td>US</td>\n",
              "      <td>Northwest</td>\n",
              "      <td>0.012</td>\n",
              "      <td>David Campbell</td>\n",
              "    </tr>\n",
              "    <tr>\n",
              "      <th>2</th>\n",
              "      <td>Garrett</td>\n",
              "      <td>Vargas</td>\n",
              "      <td>CA</td>\n",
              "      <td>Canada</td>\n",
              "      <td>0.010</td>\n",
              "      <td>Garrett Vargas</td>\n",
              "    </tr>\n",
              "    <tr>\n",
              "      <th>3</th>\n",
              "      <td>Jae</td>\n",
              "      <td>Pak</td>\n",
              "      <td>CA</td>\n",
              "      <td>Canada</td>\n",
              "      <td>0.020</td>\n",
              "      <td>Jae Pak</td>\n",
              "    </tr>\n",
              "    <tr>\n",
              "      <th>4</th>\n",
              "      <td>Jillian</td>\n",
              "      <td>Carson</td>\n",
              "      <td>US</td>\n",
              "      <td>Southwest</td>\n",
              "      <td>0.015</td>\n",
              "      <td>Jillian Carson</td>\n",
              "    </tr>\n",
              "  </tbody>\n",
              "</table>\n",
              "</div>"
            ],
            "text/plain": [
              "  FirstName  LastName  ... CommissionPct        FullName\n",
              "0       Amy   Alberts  ...         0.000     Amy Alberts\n",
              "1     David  Campbell  ...         0.012  David Campbell\n",
              "2   Garrett    Vargas  ...         0.010  Garrett Vargas\n",
              "3       Jae       Pak  ...         0.020         Jae Pak\n",
              "4   Jillian    Carson  ...         0.015  Jillian Carson\n",
              "\n",
              "[5 rows x 6 columns]"
            ]
          },
          "metadata": {
            "tags": []
          },
          "execution_count": 21
        }
      ]
    },
    {
      "cell_type": "markdown",
      "metadata": {
        "id": "AOuJPAJO5N1t",
        "colab_type": "text"
      },
      "source": [
        "### Q&A time!"
      ]
    },
    {
      "cell_type": "markdown",
      "metadata": {
        "id": "qW0SStg_E-nJ",
        "colab_type": "text"
      },
      "source": [
        "## **Case studies**"
      ]
    },
    {
      "cell_type": "markdown",
      "metadata": {
        "id": "GDQpEkCImzL9",
        "colab_type": "text"
      },
      "source": [
        "### _Q1: How did we do in revenue over the years?_"
      ]
    },
    {
      "cell_type": "markdown",
      "metadata": {
        "id": "mfBFUvPQXZyZ",
        "colab_type": "text"
      },
      "source": [
        "Since we have revenue data for each `SalesOrderID` in the `sales` sheet - and the order date and ship date for each `SalesOrderID` in hte `dates` sheet - we want to combine both DataFrames similar to how a VLOOKUP would work. \n",
        "\n",
        "<br>\n",
        "\n",
        "<p align=\"center\">\n",
        "<img src=\"https://github.com/adelnehme/python-for-spreadsheet-users-webinar/blob/master/pivots.png?raw=True\" alt = \"pivot\" width=\"70%\">\n",
        "</p>\n",
        "\n",
        "<br><br>\n",
        "\n",
        "In more technical terms, we want to perform of left join of both DataFrames where `SalesOrderId` is a common column between them.\n",
        "\n",
        "\n",
        "<p align=\"center\">\n",
        "<img src=\"https://github.com/adelnehme/python-for-spreadsheet-users-webinar/blob/master/left_join.png?raw=True\" alt = \"DataCamp icon\" width=\"50%\">\n",
        "</p>\n",
        "\n",
        "\n",
        "\n",
        "\n",
        "\n",
        "An example of how to merge a DataFrame in pandas is included below with the `.merge()` method, where we are merging `df_2` into `df_1` on a common column between them called `common_column`. The `how` argument determines which DataFrame to preserve - in this case it's `df_1` since it's on the **left**. This has the same logic as SQL joins as well.\n",
        "\n",
        "`df_1.merge(df_2, on = 'common_column', how = 'left')`\n"
      ]
    },
    {
      "cell_type": "code",
      "metadata": {
        "id": "GdhvX_CB4LF5",
        "colab_type": "code",
        "outputId": "08ccc1d2-0e2a-4254-9f59-0e546a45fc20",
        "colab": {
          "base_uri": "https://localhost:8080/",
          "height": 204
        }
      },
      "source": [
        "# Merge data - the VLOOKUP of Excel\n",
        "sales_date = sales.merge(dates, on=\"SalesOrderID\", how = \"left\")\n",
        "sales_date.head()"
      ],
      "execution_count": 22,
      "outputs": [
        {
          "output_type": "execute_result",
          "data": {
            "text/html": [
              "<div>\n",
              "<style scoped>\n",
              "    .dataframe tbody tr th:only-of-type {\n",
              "        vertical-align: middle;\n",
              "    }\n",
              "\n",
              "    .dataframe tbody tr th {\n",
              "        vertical-align: top;\n",
              "    }\n",
              "\n",
              "    .dataframe thead th {\n",
              "        text-align: right;\n",
              "    }\n",
              "</style>\n",
              "<table border=\"1\" class=\"dataframe\">\n",
              "  <thead>\n",
              "    <tr style=\"text-align: right;\">\n",
              "      <th></th>\n",
              "      <th>SalesOrderID</th>\n",
              "      <th>TotalDue</th>\n",
              "      <th>NumberofItems</th>\n",
              "      <th>OnlineOrderFlag</th>\n",
              "      <th>OrderDate</th>\n",
              "      <th>ShipDate</th>\n",
              "    </tr>\n",
              "  </thead>\n",
              "  <tbody>\n",
              "    <tr>\n",
              "      <th>0</th>\n",
              "      <td>43659</td>\n",
              "      <td>23153.2339</td>\n",
              "      <td>12</td>\n",
              "      <td>offline</td>\n",
              "      <td>2011-05-31</td>\n",
              "      <td>2011-06-07</td>\n",
              "    </tr>\n",
              "    <tr>\n",
              "      <th>1</th>\n",
              "      <td>43660</td>\n",
              "      <td>1457.3288</td>\n",
              "      <td>2</td>\n",
              "      <td>offline</td>\n",
              "      <td>2011-05-31</td>\n",
              "      <td>2011-06-07</td>\n",
              "    </tr>\n",
              "    <tr>\n",
              "      <th>2</th>\n",
              "      <td>43661</td>\n",
              "      <td>36865.8012</td>\n",
              "      <td>15</td>\n",
              "      <td>offline</td>\n",
              "      <td>2011-05-31</td>\n",
              "      <td>2011-06-07</td>\n",
              "    </tr>\n",
              "    <tr>\n",
              "      <th>3</th>\n",
              "      <td>43662</td>\n",
              "      <td>32474.9324</td>\n",
              "      <td>22</td>\n",
              "      <td>offline</td>\n",
              "      <td>2011-05-31</td>\n",
              "      <td>2011-06-07</td>\n",
              "    </tr>\n",
              "    <tr>\n",
              "      <th>4</th>\n",
              "      <td>43663</td>\n",
              "      <td>472.3108</td>\n",
              "      <td>1</td>\n",
              "      <td>offline</td>\n",
              "      <td>2011-05-31</td>\n",
              "      <td>2011-06-07</td>\n",
              "    </tr>\n",
              "  </tbody>\n",
              "</table>\n",
              "</div>"
            ],
            "text/plain": [
              "   SalesOrderID    TotalDue  ...  OrderDate   ShipDate\n",
              "0         43659  23153.2339  ... 2011-05-31 2011-06-07\n",
              "1         43660   1457.3288  ... 2011-05-31 2011-06-07\n",
              "2         43661  36865.8012  ... 2011-05-31 2011-06-07\n",
              "3         43662  32474.9324  ... 2011-05-31 2011-06-07\n",
              "4         43663    472.3108  ... 2011-05-31 2011-06-07\n",
              "\n",
              "[5 rows x 6 columns]"
            ]
          },
          "metadata": {
            "tags": []
          },
          "execution_count": 22
        }
      ]
    },
    {
      "cell_type": "code",
      "metadata": {
        "id": "2L-Efjpx4LDN",
        "colab_type": "code",
        "colab": {}
      },
      "source": [
        "# Create column for year and month\n",
        "sales_date['Order_Year'] = sales_date['OrderDate'].dt.year\n",
        "sales_date['Order_YM'] = sales_date['OrderDate'].dt.strftime('%Y-%m')"
      ],
      "execution_count": 0,
      "outputs": []
    },
    {
      "cell_type": "markdown",
      "metadata": {
        "id": "j8YLYLe4Zs_d",
        "colab_type": "text"
      },
      "source": [
        "To calculate the total revenue per year, we need to perform something like a PIVOT TABLE in spreadsheet softwares. In pandas, there's a variety of ways to acheive this - there is even a `.pivot_table()` method. However we will be using instead the `.groupby()` method which takes in as argument the column name being grouped by, and can be chained with other methods to compute interesting statistics. Here's an example of grouping by the column `col_A` of the example DataFrame `df_1` and computing the sum of the remaining columns:\n",
        "\n",
        "`df_1.groupby('col_A').sum()`"
      ]
    },
    {
      "cell_type": "code",
      "metadata": {
        "id": "NLpVQ5OY4LAp",
        "colab_type": "code",
        "outputId": "29da243a-687d-41ac-ca0d-b29eda5fc21d",
        "colab": {
          "base_uri": "https://localhost:8080/",
          "height": 173
        }
      },
      "source": [
        "# Extract revenue by year\n",
        "sales_by_year = sales_date.groupby('Order_Year').sum().reset_index()\n",
        "sales_by_year.head()"
      ],
      "execution_count": 24,
      "outputs": [
        {
          "output_type": "execute_result",
          "data": {
            "text/html": [
              "<div>\n",
              "<style scoped>\n",
              "    .dataframe tbody tr th:only-of-type {\n",
              "        vertical-align: middle;\n",
              "    }\n",
              "\n",
              "    .dataframe tbody tr th {\n",
              "        vertical-align: top;\n",
              "    }\n",
              "\n",
              "    .dataframe thead th {\n",
              "        text-align: right;\n",
              "    }\n",
              "</style>\n",
              "<table border=\"1\" class=\"dataframe\">\n",
              "  <thead>\n",
              "    <tr style=\"text-align: right;\">\n",
              "      <th></th>\n",
              "      <th>Order_Year</th>\n",
              "      <th>SalesOrderID</th>\n",
              "      <th>TotalDue</th>\n",
              "      <th>NumberofItems</th>\n",
              "    </tr>\n",
              "  </thead>\n",
              "  <tbody>\n",
              "    <tr>\n",
              "      <th>0</th>\n",
              "      <td>2011</td>\n",
              "      <td>71450434</td>\n",
              "      <td>1.415570e+07</td>\n",
              "      <td>5716</td>\n",
              "    </tr>\n",
              "    <tr>\n",
              "      <th>1</th>\n",
              "      <td>2012</td>\n",
              "      <td>184878045</td>\n",
              "      <td>3.767570e+07</td>\n",
              "      <td>21689</td>\n",
              "    </tr>\n",
              "    <tr>\n",
              "      <th>2</th>\n",
              "      <td>2013</td>\n",
              "      <td>798042413</td>\n",
              "      <td>4.896589e+07</td>\n",
              "      <td>56573</td>\n",
              "    </tr>\n",
              "    <tr>\n",
              "      <th>3</th>\n",
              "      <td>2014</td>\n",
              "      <td>814366923</td>\n",
              "      <td>2.241950e+07</td>\n",
              "      <td>37339</td>\n",
              "    </tr>\n",
              "  </tbody>\n",
              "</table>\n",
              "</div>"
            ],
            "text/plain": [
              "   Order_Year  SalesOrderID      TotalDue  NumberofItems\n",
              "0        2011      71450434  1.415570e+07           5716\n",
              "1        2012     184878045  3.767570e+07          21689\n",
              "2        2013     798042413  4.896589e+07          56573\n",
              "3        2014     814366923  2.241950e+07          37339"
            ]
          },
          "metadata": {
            "tags": []
          },
          "execution_count": 24
        }
      ]
    },
    {
      "cell_type": "markdown",
      "metadata": {
        "id": "0Cp3cw-ha_rV",
        "colab_type": "text"
      },
      "source": [
        "There are many ways to perform visualizations in Python - the two most widely used visualization packages are `seaborn` (which is usually imported as `sns`) and `matplotlib.pyplot` (which is usually imported as `plt`). \n",
        "\n",
        "Without going into the details, we will be creating and customizing two types of visualizations in this notebook by using these functions:\n",
        "\n",
        "- Barplots using `sns.barplot(x=,y=,data=)`\n",
        "  - `x`: The column name to be used on the x-axis.\n",
        "  - `y`: The column name to be used on the y-axis.\n",
        "  - `data`: The data used to visualize\n",
        "- Lineplots using `sns.lineplot(x=,y=,data=)`\n",
        "  - `x`: The column name to be used on the x-axis.\n",
        "  - `y`: The column name to be used on the y-axis.\n",
        "  - `data`: The data used to visualize\n",
        "- Setting figure labels by:\n",
        "  - `plt.xlabel()` to set the x-axis label.\n",
        "  - `plt.ylabel()` to set the y-axis label.\n",
        "  - `plt.title()` to set the x-axis label.\n",
        "  - `plt.xticks(rotation=)` to set the x-axis ticks with proper rotation\n",
        "- Showing the plot with `plt.show()`"
      ]
    },
    {
      "cell_type": "code",
      "metadata": {
        "id": "Ns-Vc_GS4K-b",
        "colab_type": "code",
        "outputId": "07829f54-5c9f-45cf-a43c-1ef7640eaccd",
        "colab": {
          "base_uri": "https://localhost:8080/",
          "height": 295
        }
      },
      "source": [
        "# Visualize it\n",
        "sns.barplot(x = 'Order_Year', y = 'TotalDue', data = sales_by_year)\n",
        "plt.xlabel(\"Years\")\n",
        "plt.ylabel(\"Revenue\")\n",
        "plt.title(\"Revenue over the years\")\n",
        "plt.show()"
      ],
      "execution_count": 25,
      "outputs": [
        {
          "output_type": "display_data",
          "data": {
            "image/png": "[encoded data removed]",
            "text/plain": [
              "<Figure size 432x288 with 1 Axes>"
            ]
          },
          "metadata": {
            "tags": [],
            "needs_background": "light"
          }
        }
      ]
    },
    {
      "cell_type": "code",
      "metadata": {
        "id": "pTdxEPc94K82",
        "colab_type": "code",
        "outputId": "22ed5903-39ed-4864-8b9b-f2d8f51317b8",
        "colab": {
          "base_uri": "https://localhost:8080/",
          "height": 204
        }
      },
      "source": [
        "# Is there seasonality?\n",
        "sales_by_year_month = sales_date.groupby('Order_YM').sum().reset_index()\n",
        "sales_by_year_month.head()"
      ],
      "execution_count": 27,
      "outputs": [
        {
          "output_type": "execute_result",
          "data": {
            "text/html": [
              "<div>\n",
              "<style scoped>\n",
              "    .dataframe tbody tr th:only-of-type {\n",
              "        vertical-align: middle;\n",
              "    }\n",
              "\n",
              "    .dataframe tbody tr th {\n",
              "        vertical-align: top;\n",
              "    }\n",
              "\n",
              "    .dataframe thead th {\n",
              "        text-align: right;\n",
              "    }\n",
              "</style>\n",
              "<table border=\"1\" class=\"dataframe\">\n",
              "  <thead>\n",
              "    <tr style=\"text-align: right;\">\n",
              "      <th></th>\n",
              "      <th>Order_YM</th>\n",
              "      <th>SalesOrderID</th>\n",
              "      <th>TotalDue</th>\n",
              "      <th>NumberofItems</th>\n",
              "      <th>Order_Year</th>\n",
              "    </tr>\n",
              "  </thead>\n",
              "  <tbody>\n",
              "    <tr>\n",
              "      <th>0</th>\n",
              "      <td>2011-05</td>\n",
              "      <td>1878240</td>\n",
              "      <td>5.670209e+05</td>\n",
              "      <td>357</td>\n",
              "      <td>86473</td>\n",
              "    </tr>\n",
              "    <tr>\n",
              "      <th>1</th>\n",
              "      <td>2011-06</td>\n",
              "      <td>6171852</td>\n",
              "      <td>5.070965e+05</td>\n",
              "      <td>141</td>\n",
              "      <td>283551</td>\n",
              "    </tr>\n",
              "    <tr>\n",
              "      <th>2</th>\n",
              "      <td>2011-07</td>\n",
              "      <td>10154298</td>\n",
              "      <td>2.292183e+06</td>\n",
              "      <td>941</td>\n",
              "      <td>464541</td>\n",
              "    </tr>\n",
              "    <tr>\n",
              "      <th>3</th>\n",
              "      <td>2011-08</td>\n",
              "      <td>11049625</td>\n",
              "      <td>2.800576e+06</td>\n",
              "      <td>1242</td>\n",
              "      <td>502750</td>\n",
              "    </tr>\n",
              "    <tr>\n",
              "      <th>4</th>\n",
              "      <td>2011-09</td>\n",
              "      <td>6971114</td>\n",
              "      <td>5.547916e+05</td>\n",
              "      <td>157</td>\n",
              "      <td>315727</td>\n",
              "    </tr>\n",
              "  </tbody>\n",
              "</table>\n",
              "</div>"
            ],
            "text/plain": [
              "  Order_YM  SalesOrderID      TotalDue  NumberofItems  Order_Year\n",
              "0  2011-05       1878240  5.670209e+05            357       86473\n",
              "1  2011-06       6171852  5.070965e+05            141      283551\n",
              "2  2011-07      10154298  2.292183e+06            941      464541\n",
              "3  2011-08      11049625  2.800576e+06           1242      502750\n",
              "4  2011-09       6971114  5.547916e+05            157      315727"
            ]
          },
          "metadata": {
            "tags": []
          },
          "execution_count": 27
        }
      ]
    },
    {
      "cell_type": "code",
      "metadata": {
        "id": "awDjxQx14K7J",
        "colab_type": "code",
        "outputId": "360dd50c-f138-445b-cb19-16845699e589",
        "colab": {
          "base_uri": "https://localhost:8080/",
          "height": 431
        }
      },
      "source": [
        "# Visualize it\n",
        "plt.figure(figsize=(18, 6))\n",
        "sns.lineplot(x = 'Order_YM', y = 'TotalDue', data = sales_by_year_month)\n",
        "plt.xticks(rotation=45)\n",
        "plt.xlabel(\"Years\")\n",
        "plt.ylabel(\"Revenue\")\n",
        "plt.title(\"Revenue over the years\")\n",
        "plt.show()"
      ],
      "execution_count": 28,
      "outputs": [
        {
          "output_type": "display_data",
          "data": {
            "image/png": "[encoded data removed]",
            "text/plain": [
              "<Figure size 1296x432 with 1 Axes>"
            ]
          },
          "metadata": {
            "tags": [],
            "needs_background": "light"
          }
        }
      ]
    },
    {
      "cell_type": "markdown",
      "metadata": {
        "id": "uIsHEbLlFGtn",
        "colab_type": "text"
      },
      "source": [
        "### _Q2: How is revenue divided by channel type overall and over time?_"
      ]
    },
    {
      "cell_type": "markdown",
      "metadata": {
        "id": "mpmB3J_Kidx0",
        "colab_type": "text"
      },
      "source": [
        "Similar to how we merged the `sales` sheet with the `dates` sheet when answering Q1, we will be merging the `sales` sheet with the `customers` sheet to get the channel type, employee and customer names for each `SalesOrderID`.\n",
        "\n",
        "<br>\n",
        "\n",
        "<p align=\"center\">\n",
        "<img src=\"https://github.com/adelnehme/python-for-spreadsheet-users-webinar/blob/master/pivots2.png?raw=True\" alt = \"pivot\" width=\"70%\">\n",
        "</p>\n",
        "\n",
        "<br>"
      ]
    },
    {
      "cell_type": "code",
      "metadata": {
        "id": "V2_olMaI4K5Q",
        "colab_type": "code",
        "outputId": "ce1ab649-6869-4ea6-c934-c08e55381876",
        "colab": {
          "base_uri": "https://localhost:8080/",
          "height": 224
        }
      },
      "source": [
        "# Merge sales and customer data\n",
        "sales_customers = sales.merge(customers, on = \"SalesOrderID\", how = \"left\")\n",
        "sales_customers.head()"
      ],
      "execution_count": 29,
      "outputs": [
        {
          "output_type": "execute_result",
          "data": {
            "text/html": [
              "<div>\n",
              "<style scoped>\n",
              "    .dataframe tbody tr th:only-of-type {\n",
              "        vertical-align: middle;\n",
              "    }\n",
              "\n",
              "    .dataframe tbody tr th {\n",
              "        vertical-align: top;\n",
              "    }\n",
              "\n",
              "    .dataframe thead th {\n",
              "        text-align: right;\n",
              "    }\n",
              "</style>\n",
              "<table border=\"1\" class=\"dataframe\">\n",
              "  <thead>\n",
              "    <tr style=\"text-align: right;\">\n",
              "      <th></th>\n",
              "      <th>SalesOrderID</th>\n",
              "      <th>TotalDue</th>\n",
              "      <th>NumberofItems</th>\n",
              "      <th>OnlineOrderFlag</th>\n",
              "      <th>CustomerFirstName</th>\n",
              "      <th>CustomerLastName</th>\n",
              "      <th>EmployeeFirstName</th>\n",
              "      <th>EmployeeLastName</th>\n",
              "      <th>ChannelType</th>\n",
              "      <th>EmployeeFullName</th>\n",
              "    </tr>\n",
              "  </thead>\n",
              "  <tbody>\n",
              "    <tr>\n",
              "      <th>0</th>\n",
              "      <td>43659</td>\n",
              "      <td>23153.2339</td>\n",
              "      <td>12</td>\n",
              "      <td>offline</td>\n",
              "      <td>NaN</td>\n",
              "      <td>NaN</td>\n",
              "      <td>Tsvi</td>\n",
              "      <td>Reiter</td>\n",
              "      <td>B2B</td>\n",
              "      <td>Tsvi Reiter</td>\n",
              "    </tr>\n",
              "    <tr>\n",
              "      <th>1</th>\n",
              "      <td>43660</td>\n",
              "      <td>1457.3288</td>\n",
              "      <td>2</td>\n",
              "      <td>offline</td>\n",
              "      <td>NaN</td>\n",
              "      <td>NaN</td>\n",
              "      <td>Tsvi</td>\n",
              "      <td>Reiter</td>\n",
              "      <td>B2B</td>\n",
              "      <td>Tsvi Reiter</td>\n",
              "    </tr>\n",
              "    <tr>\n",
              "      <th>2</th>\n",
              "      <td>43661</td>\n",
              "      <td>36865.8012</td>\n",
              "      <td>15</td>\n",
              "      <td>offline</td>\n",
              "      <td>NaN</td>\n",
              "      <td>NaN</td>\n",
              "      <td>José</td>\n",
              "      <td>Saraiva</td>\n",
              "      <td>B2B</td>\n",
              "      <td>José Saraiva</td>\n",
              "    </tr>\n",
              "    <tr>\n",
              "      <th>3</th>\n",
              "      <td>43662</td>\n",
              "      <td>32474.9324</td>\n",
              "      <td>22</td>\n",
              "      <td>offline</td>\n",
              "      <td>NaN</td>\n",
              "      <td>NaN</td>\n",
              "      <td>José</td>\n",
              "      <td>Saraiva</td>\n",
              "      <td>B2B</td>\n",
              "      <td>José Saraiva</td>\n",
              "    </tr>\n",
              "    <tr>\n",
              "      <th>4</th>\n",
              "      <td>43663</td>\n",
              "      <td>472.3108</td>\n",
              "      <td>1</td>\n",
              "      <td>offline</td>\n",
              "      <td>NaN</td>\n",
              "      <td>NaN</td>\n",
              "      <td>Linda</td>\n",
              "      <td>Mitchell</td>\n",
              "      <td>B2B</td>\n",
              "      <td>Linda Mitchell</td>\n",
              "    </tr>\n",
              "  </tbody>\n",
              "</table>\n",
              "</div>"
            ],
            "text/plain": [
              "   SalesOrderID    TotalDue  ...  ChannelType EmployeeFullName\n",
              "0         43659  23153.2339  ...          B2B      Tsvi Reiter\n",
              "1         43660   1457.3288  ...          B2B      Tsvi Reiter\n",
              "2         43661  36865.8012  ...          B2B     José Saraiva\n",
              "3         43662  32474.9324  ...          B2B     José Saraiva\n",
              "4         43663    472.3108  ...          B2B   Linda Mitchell\n",
              "\n",
              "[5 rows x 10 columns]"
            ]
          },
          "metadata": {
            "tags": []
          },
          "execution_count": 29
        }
      ]
    },
    {
      "cell_type": "code",
      "metadata": {
        "id": "rEDz2ZKo4KyG",
        "colab_type": "code",
        "outputId": "e9a807ae-51b6-411d-c31e-3c80d1f4dc1a",
        "colab": {
          "base_uri": "https://localhost:8080/",
          "height": 111
        }
      },
      "source": [
        "# Identify revenue and amount sold by channel\n",
        "sales_by_channel = sales_customers.groupby('ChannelType').sum().reset_index()\n",
        "sales_by_channel.head()"
      ],
      "execution_count": 30,
      "outputs": [
        {
          "output_type": "execute_result",
          "data": {
            "text/html": [
              "<div>\n",
              "<style scoped>\n",
              "    .dataframe tbody tr th:only-of-type {\n",
              "        vertical-align: middle;\n",
              "    }\n",
              "\n",
              "    .dataframe tbody tr th {\n",
              "        vertical-align: top;\n",
              "    }\n",
              "\n",
              "    .dataframe thead th {\n",
              "        text-align: right;\n",
              "    }\n",
              "</style>\n",
              "<table border=\"1\" class=\"dataframe\">\n",
              "  <thead>\n",
              "    <tr style=\"text-align: right;\">\n",
              "      <th></th>\n",
              "      <th>ChannelType</th>\n",
              "      <th>SalesOrderID</th>\n",
              "      <th>TotalDue</th>\n",
              "      <th>NumberofItems</th>\n",
              "    </tr>\n",
              "  </thead>\n",
              "  <tbody>\n",
              "    <tr>\n",
              "      <th>0</th>\n",
              "      <td>B2B</td>\n",
              "      <td>204462343</td>\n",
              "      <td>9.077545e+07</td>\n",
              "      <td>60919</td>\n",
              "    </tr>\n",
              "    <tr>\n",
              "      <th>1</th>\n",
              "      <td>B2C</td>\n",
              "      <td>1664275472</td>\n",
              "      <td>3.244134e+07</td>\n",
              "      <td>60398</td>\n",
              "    </tr>\n",
              "  </tbody>\n",
              "</table>\n",
              "</div>"
            ],
            "text/plain": [
              "  ChannelType  SalesOrderID      TotalDue  NumberofItems\n",
              "0         B2B     204462343  9.077545e+07          60919\n",
              "1         B2C    1664275472  3.244134e+07          60398"
            ]
          },
          "metadata": {
            "tags": []
          },
          "execution_count": 30
        }
      ]
    },
    {
      "cell_type": "code",
      "metadata": {
        "id": "F01U4q9z4jff",
        "colab_type": "code",
        "outputId": "6fedcefe-958c-4373-9040-8585b8cfbd76",
        "colab": {
          "base_uri": "https://localhost:8080/",
          "height": 295
        }
      },
      "source": [
        "# Visualize\n",
        "sns.barplot(x = 'ChannelType', y = 'TotalDue', data = sales_by_channel)\n",
        "plt.xlabel(\"Channel Type\")\n",
        "plt.ylabel(\"Revenue\")\n",
        "plt.title(\"Revenue by Channel Type\")\n",
        "plt.show()"
      ],
      "execution_count": 31,
      "outputs": [
        {
          "output_type": "display_data",
          "data": {
            "image/png": "[encoded data removed]",
            "text/plain": [
              "<Figure size 432x288 with 1 Axes>"
            ]
          },
          "metadata": {
            "tags": [],
            "needs_background": "light"
          }
        }
      ]
    },
    {
      "cell_type": "markdown",
      "metadata": {
        "id": "9QxBUV0IjTyg",
        "colab_type": "text"
      },
      "source": [
        "The results clearly demonstrate that the B2B channel provides much more revenue from the B2C channel, however what if we want a temporal dimension? To do this, we can first merge `sales_date` created when answering question 1 with the `customers` sheet on `SalesOrderID`. "
      ]
    },
    {
      "cell_type": "code",
      "metadata": {
        "id": "Kql3u8DH4jc4",
        "colab_type": "code",
        "outputId": "4990553d-66d9-4ac9-e984-56e613ed8230",
        "colab": {
          "base_uri": "https://localhost:8080/",
          "height": 309
        }
      },
      "source": [
        "# Merge sales, dates and customers data\n",
        "sales_customers_date = sales_date.merge(customers, on = \"SalesOrderID\", how = \"left\")\n",
        "sales_customers_date.head()"
      ],
      "execution_count": 32,
      "outputs": [
        {
          "output_type": "execute_result",
          "data": {
            "text/html": [
              "<div>\n",
              "<style scoped>\n",
              "    .dataframe tbody tr th:only-of-type {\n",
              "        vertical-align: middle;\n",
              "    }\n",
              "\n",
              "    .dataframe tbody tr th {\n",
              "        vertical-align: top;\n",
              "    }\n",
              "\n",
              "    .dataframe thead th {\n",
              "        text-align: right;\n",
              "    }\n",
              "</style>\n",
              "<table border=\"1\" class=\"dataframe\">\n",
              "  <thead>\n",
              "    <tr style=\"text-align: right;\">\n",
              "      <th></th>\n",
              "      <th>SalesOrderID</th>\n",
              "      <th>TotalDue</th>\n",
              "      <th>NumberofItems</th>\n",
              "      <th>OnlineOrderFlag</th>\n",
              "      <th>OrderDate</th>\n",
              "      <th>ShipDate</th>\n",
              "      <th>Order_Year</th>\n",
              "      <th>Order_YM</th>\n",
              "      <th>CustomerFirstName</th>\n",
              "      <th>CustomerLastName</th>\n",
              "      <th>EmployeeFirstName</th>\n",
              "      <th>EmployeeLastName</th>\n",
              "      <th>ChannelType</th>\n",
              "      <th>EmployeeFullName</th>\n",
              "    </tr>\n",
              "  </thead>\n",
              "  <tbody>\n",
              "    <tr>\n",
              "      <th>0</th>\n",
              "      <td>43659</td>\n",
              "      <td>23153.2339</td>\n",
              "      <td>12</td>\n",
              "      <td>offline</td>\n",
              "      <td>2011-05-31</td>\n",
              "      <td>2011-06-07</td>\n",
              "      <td>2011</td>\n",
              "      <td>2011-05</td>\n",
              "      <td>NaN</td>\n",
              "      <td>NaN</td>\n",
              "      <td>Tsvi</td>\n",
              "      <td>Reiter</td>\n",
              "      <td>B2B</td>\n",
              "      <td>Tsvi Reiter</td>\n",
              "    </tr>\n",
              "    <tr>\n",
              "      <th>1</th>\n",
              "      <td>43660</td>\n",
              "      <td>1457.3288</td>\n",
              "      <td>2</td>\n",
              "      <td>offline</td>\n",
              "      <td>2011-05-31</td>\n",
              "      <td>2011-06-07</td>\n",
              "      <td>2011</td>\n",
              "      <td>2011-05</td>\n",
              "      <td>NaN</td>\n",
              "      <td>NaN</td>\n",
              "      <td>Tsvi</td>\n",
              "      <td>Reiter</td>\n",
              "      <td>B2B</td>\n",
              "      <td>Tsvi Reiter</td>\n",
              "    </tr>\n",
              "    <tr>\n",
              "      <th>2</th>\n",
              "      <td>43661</td>\n",
              "      <td>36865.8012</td>\n",
              "      <td>15</td>\n",
              "      <td>offline</td>\n",
              "      <td>2011-05-31</td>\n",
              "      <td>2011-06-07</td>\n",
              "      <td>2011</td>\n",
              "      <td>2011-05</td>\n",
              "      <td>NaN</td>\n",
              "      <td>NaN</td>\n",
              "      <td>José</td>\n",
              "      <td>Saraiva</td>\n",
              "      <td>B2B</td>\n",
              "      <td>José Saraiva</td>\n",
              "    </tr>\n",
              "    <tr>\n",
              "      <th>3</th>\n",
              "      <td>43662</td>\n",
              "      <td>32474.9324</td>\n",
              "      <td>22</td>\n",
              "      <td>offline</td>\n",
              "      <td>2011-05-31</td>\n",
              "      <td>2011-06-07</td>\n",
              "      <td>2011</td>\n",
              "      <td>2011-05</td>\n",
              "      <td>NaN</td>\n",
              "      <td>NaN</td>\n",
              "      <td>José</td>\n",
              "      <td>Saraiva</td>\n",
              "      <td>B2B</td>\n",
              "      <td>José Saraiva</td>\n",
              "    </tr>\n",
              "    <tr>\n",
              "      <th>4</th>\n",
              "      <td>43663</td>\n",
              "      <td>472.3108</td>\n",
              "      <td>1</td>\n",
              "      <td>offline</td>\n",
              "      <td>2011-05-31</td>\n",
              "      <td>2011-06-07</td>\n",
              "      <td>2011</td>\n",
              "      <td>2011-05</td>\n",
              "      <td>NaN</td>\n",
              "      <td>NaN</td>\n",
              "      <td>Linda</td>\n",
              "      <td>Mitchell</td>\n",
              "      <td>B2B</td>\n",
              "      <td>Linda Mitchell</td>\n",
              "    </tr>\n",
              "  </tbody>\n",
              "</table>\n",
              "</div>"
            ],
            "text/plain": [
              "   SalesOrderID    TotalDue  ...  ChannelType EmployeeFullName\n",
              "0         43659  23153.2339  ...          B2B      Tsvi Reiter\n",
              "1         43660   1457.3288  ...          B2B      Tsvi Reiter\n",
              "2         43661  36865.8012  ...          B2B     José Saraiva\n",
              "3         43662  32474.9324  ...          B2B     José Saraiva\n",
              "4         43663    472.3108  ...          B2B   Linda Mitchell\n",
              "\n",
              "[5 rows x 14 columns]"
            ]
          },
          "metadata": {
            "tags": []
          },
          "execution_count": 32
        }
      ]
    },
    {
      "cell_type": "code",
      "metadata": {
        "id": "Cw4oqqKe4jaz",
        "colab_type": "code",
        "outputId": "719be49b-6193-4311-a037-eb93a56e1265",
        "colab": {
          "base_uri": "https://localhost:8080/",
          "height": 204
        }
      },
      "source": [
        "# Group by year by channel type\n",
        "sales_by_channel_date = sales_customers_date.groupby(['Order_Year', 'ChannelType']).sum().reset_index()\n",
        "sales_by_channel_date.head()"
      ],
      "execution_count": 33,
      "outputs": [
        {
          "output_type": "execute_result",
          "data": {
            "text/html": [
              "<div>\n",
              "<style scoped>\n",
              "    .dataframe tbody tr th:only-of-type {\n",
              "        vertical-align: middle;\n",
              "    }\n",
              "\n",
              "    .dataframe tbody tr th {\n",
              "        vertical-align: top;\n",
              "    }\n",
              "\n",
              "    .dataframe thead th {\n",
              "        text-align: right;\n",
              "    }\n",
              "</style>\n",
              "<table border=\"1\" class=\"dataframe\">\n",
              "  <thead>\n",
              "    <tr style=\"text-align: right;\">\n",
              "      <th></th>\n",
              "      <th>Order_Year</th>\n",
              "      <th>ChannelType</th>\n",
              "      <th>SalesOrderID</th>\n",
              "      <th>TotalDue</th>\n",
              "      <th>NumberofItems</th>\n",
              "    </tr>\n",
              "  </thead>\n",
              "  <tbody>\n",
              "    <tr>\n",
              "      <th>0</th>\n",
              "      <td>2011</td>\n",
              "      <td>B2B</td>\n",
              "      <td>17999103</td>\n",
              "      <td>9.886952e+06</td>\n",
              "      <td>4515</td>\n",
              "    </tr>\n",
              "    <tr>\n",
              "      <th>1</th>\n",
              "      <td>2011</td>\n",
              "      <td>B2C</td>\n",
              "      <td>53451331</td>\n",
              "      <td>4.268748e+06</td>\n",
              "      <td>1201</td>\n",
              "    </tr>\n",
              "    <tr>\n",
              "      <th>2</th>\n",
              "      <td>2012</td>\n",
              "      <td>B2B</td>\n",
              "      <td>55440422</td>\n",
              "      <td>3.061409e+07</td>\n",
              "      <td>18946</td>\n",
              "    </tr>\n",
              "    <tr>\n",
              "      <th>3</th>\n",
              "      <td>2012</td>\n",
              "      <td>B2C</td>\n",
              "      <td>129437623</td>\n",
              "      <td>7.061613e+06</td>\n",
              "      <td>2743</td>\n",
              "    </tr>\n",
              "    <tr>\n",
              "      <th>4</th>\n",
              "      <td>2013</td>\n",
              "      <td>B2B</td>\n",
              "      <td>87767978</td>\n",
              "      <td>3.710689e+07</td>\n",
              "      <td>27614</td>\n",
              "    </tr>\n",
              "  </tbody>\n",
              "</table>\n",
              "</div>"
            ],
            "text/plain": [
              "   Order_Year ChannelType  SalesOrderID      TotalDue  NumberofItems\n",
              "0        2011         B2B      17999103  9.886952e+06           4515\n",
              "1        2011         B2C      53451331  4.268748e+06           1201\n",
              "2        2012         B2B      55440422  3.061409e+07          18946\n",
              "3        2012         B2C     129437623  7.061613e+06           2743\n",
              "4        2013         B2B      87767978  3.710689e+07          27614"
            ]
          },
          "metadata": {
            "tags": []
          },
          "execution_count": 33
        }
      ]
    },
    {
      "cell_type": "code",
      "metadata": {
        "id": "9cWRLNkV4jYm",
        "colab_type": "code",
        "outputId": "561542d6-bf54-419e-c673-8182baf4fed7",
        "colab": {
          "base_uri": "https://localhost:8080/",
          "height": 295
        }
      },
      "source": [
        "# Visualize\n",
        "sns.barplot(x = 'Order_Year', y = 'TotalDue', hue = \"ChannelType\", data = sales_by_channel_date)\n",
        "plt.xlabel(\"Channel Type\")\n",
        "plt.ylabel(\"Revenue\")\n",
        "plt.title(\"Revenue by Channel Type\")\n",
        "plt.show()"
      ],
      "execution_count": 34,
      "outputs": [
        {
          "output_type": "display_data",
          "data": {
            "image/png": "[encoded data removed]",
            "text/plain": [
              "<Figure size 432x288 with 1 Axes>"
            ]
          },
          "metadata": {
            "tags": [],
            "needs_background": "light"
          }
        }
      ]
    },
    {
      "cell_type": "markdown",
      "metadata": {
        "id": "tG5zLT6ilRUn",
        "colab_type": "text"
      },
      "source": [
        "### _Q3: Who are the employees responsible for the most B2B sales overall and in 2013?_"
      ]
    },
    {
      "cell_type": "markdown",
      "metadata": {
        "id": "ql68P8L9pjvW",
        "colab_type": "text"
      },
      "source": [
        "The `sales_customers_date` has already been created when we merged `sales` with `customers` and `dates` in Q1 and Q2\n",
        "\n",
        "```py\n",
        "# From Q1\n",
        "sales_date = sales.merge(dates, on=\"SalesOrderID\", how = \"left\")\n",
        "# From Q2\n",
        "sales_customers_date = sales_date.merge(customers, on = \"SalesOrderID\", how = \"left\")\n",
        "```"
      ]
    },
    {
      "cell_type": "code",
      "metadata": {
        "id": "liJNxutK4rVG",
        "colab_type": "code",
        "outputId": "2021e563-b678-4e33-b88d-f49bd96a611b",
        "colab": {
          "base_uri": "https://localhost:8080/",
          "height": 204
        }
      },
      "source": [
        "# Group by employee performance\n",
        "sales_employees = sales_customers_date.groupby('EmployeeFullName').sum().reset_index()\n",
        "sales_employees.head()"
      ],
      "execution_count": 35,
      "outputs": [
        {
          "output_type": "execute_result",
          "data": {
            "text/html": [
              "<div>\n",
              "<style scoped>\n",
              "    .dataframe tbody tr th:only-of-type {\n",
              "        vertical-align: middle;\n",
              "    }\n",
              "\n",
              "    .dataframe tbody tr th {\n",
              "        vertical-align: top;\n",
              "    }\n",
              "\n",
              "    .dataframe thead th {\n",
              "        text-align: right;\n",
              "    }\n",
              "</style>\n",
              "<table border=\"1\" class=\"dataframe\">\n",
              "  <thead>\n",
              "    <tr style=\"text-align: right;\">\n",
              "      <th></th>\n",
              "      <th>EmployeeFullName</th>\n",
              "      <th>SalesOrderID</th>\n",
              "      <th>TotalDue</th>\n",
              "      <th>NumberofItems</th>\n",
              "      <th>Order_Year</th>\n",
              "    </tr>\n",
              "  </thead>\n",
              "  <tbody>\n",
              "    <tr>\n",
              "      <th>0</th>\n",
              "      <td>Amy Alberts</td>\n",
              "      <td>2155978</td>\n",
              "      <td>8.264175e+05</td>\n",
              "      <td>586</td>\n",
              "      <td>78503</td>\n",
              "    </tr>\n",
              "    <tr>\n",
              "      <th>1</th>\n",
              "      <td>David Campbell</td>\n",
              "      <td>9966638</td>\n",
              "      <td>4.207895e+06</td>\n",
              "      <td>2247</td>\n",
              "      <td>380364</td>\n",
              "    </tr>\n",
              "    <tr>\n",
              "      <th>2</th>\n",
              "      <td>Garrett Vargas</td>\n",
              "      <td>12415186</td>\n",
              "      <td>4.069422e+06</td>\n",
              "      <td>3284</td>\n",
              "      <td>470937</td>\n",
              "    </tr>\n",
              "    <tr>\n",
              "      <th>3</th>\n",
              "      <td>Jae Pak</td>\n",
              "      <td>19195780</td>\n",
              "      <td>9.585125e+06</td>\n",
              "      <td>6738</td>\n",
              "      <td>700480</td>\n",
              "    </tr>\n",
              "    <tr>\n",
              "      <th>4</th>\n",
              "      <td>Jillian Carson</td>\n",
              "      <td>24928694</td>\n",
              "      <td>1.134239e+07</td>\n",
              "      <td>7825</td>\n",
              "      <td>951928</td>\n",
              "    </tr>\n",
              "  </tbody>\n",
              "</table>\n",
              "</div>"
            ],
            "text/plain": [
              "  EmployeeFullName  SalesOrderID      TotalDue  NumberofItems  Order_Year\n",
              "0      Amy Alberts       2155978  8.264175e+05            586       78503\n",
              "1   David Campbell       9966638  4.207895e+06           2247      380364\n",
              "2   Garrett Vargas      12415186  4.069422e+06           3284      470937\n",
              "3          Jae Pak      19195780  9.585125e+06           6738      700480\n",
              "4   Jillian Carson      24928694  1.134239e+07           7825      951928"
            ]
          },
          "metadata": {
            "tags": []
          },
          "execution_count": 35
        }
      ]
    },
    {
      "cell_type": "markdown",
      "metadata": {
        "id": "czsrlwlFlk_t",
        "colab_type": "text"
      },
      "source": [
        "To be able to truly see the highest earning employees - we can use the `.sort_values()` method of a DataFrame. For example, we can sort `col_A` of the example DataFrame `df_1` as such:\n",
        "\n",
        "`df_1.sort_values(by=,ascending=,inplace=)`\n",
        "\n",
        "* `by` takes in the column name being sorted by\n",
        "* `ascending` takes in `True` or `False` depending on whether we want to sort it by ascending order\n",
        "* `inplace` takes in `True` or `False` depending on whether we want to save our changes in the same DataFrame being sorted."
      ]
    },
    {
      "cell_type": "code",
      "metadata": {
        "id": "NBovRPzVFvoB",
        "colab_type": "code",
        "outputId": "0588daf9-4e5a-4ab5-bf5f-55acfea3fe91",
        "colab": {
          "base_uri": "https://localhost:8080/",
          "height": 204
        }
      },
      "source": [
        "# Sort it so we visualize it correctly\n",
        "sales_employees.sort_values('TotalDue', ascending=True, inplace = True)\n",
        "sales_employees.head()"
      ],
      "execution_count": 36,
      "outputs": [
        {
          "output_type": "execute_result",
          "data": {
            "text/html": [
              "<div>\n",
              "<style scoped>\n",
              "    .dataframe tbody tr th:only-of-type {\n",
              "        vertical-align: middle;\n",
              "    }\n",
              "\n",
              "    .dataframe tbody tr th {\n",
              "        vertical-align: top;\n",
              "    }\n",
              "\n",
              "    .dataframe thead th {\n",
              "        text-align: right;\n",
              "    }\n",
              "</style>\n",
              "<table border=\"1\" class=\"dataframe\">\n",
              "  <thead>\n",
              "    <tr style=\"text-align: right;\">\n",
              "      <th></th>\n",
              "      <th>EmployeeFullName</th>\n",
              "      <th>SalesOrderID</th>\n",
              "      <th>TotalDue</th>\n",
              "      <th>NumberofItems</th>\n",
              "      <th>Order_Year</th>\n",
              "    </tr>\n",
              "  </thead>\n",
              "  <tbody>\n",
              "    <tr>\n",
              "      <th>14</th>\n",
              "      <td>Syed Abbas</td>\n",
              "      <td>964779</td>\n",
              "      <td>1.955288e+05</td>\n",
              "      <td>245</td>\n",
              "      <td>32212</td>\n",
              "    </tr>\n",
              "    <tr>\n",
              "      <th>0</th>\n",
              "      <td>Amy Alberts</td>\n",
              "      <td>2155978</td>\n",
              "      <td>8.264175e+05</td>\n",
              "      <td>586</td>\n",
              "      <td>78503</td>\n",
              "    </tr>\n",
              "    <tr>\n",
              "      <th>13</th>\n",
              "      <td>Stephen Jiang</td>\n",
              "      <td>2516344</td>\n",
              "      <td>1.235934e+06</td>\n",
              "      <td>792</td>\n",
              "      <td>96602</td>\n",
              "    </tr>\n",
              "    <tr>\n",
              "      <th>7</th>\n",
              "      <td>Lynn Tsoflias</td>\n",
              "      <td>6663235</td>\n",
              "      <td>1.606441e+06</td>\n",
              "      <td>1468</td>\n",
              "      <td>219460</td>\n",
              "    </tr>\n",
              "    <tr>\n",
              "      <th>10</th>\n",
              "      <td>Rachel Valdez</td>\n",
              "      <td>7870176</td>\n",
              "      <td>2.062393e+06</td>\n",
              "      <td>1783</td>\n",
              "      <td>261734</td>\n",
              "    </tr>\n",
              "  </tbody>\n",
              "</table>\n",
              "</div>"
            ],
            "text/plain": [
              "   EmployeeFullName  SalesOrderID      TotalDue  NumberofItems  Order_Year\n",
              "14       Syed Abbas        964779  1.955288e+05            245       32212\n",
              "0       Amy Alberts       2155978  8.264175e+05            586       78503\n",
              "13    Stephen Jiang       2516344  1.235934e+06            792       96602\n",
              "7     Lynn Tsoflias       6663235  1.606441e+06           1468      219460\n",
              "10    Rachel Valdez       7870176  2.062393e+06           1783      261734"
            ]
          },
          "metadata": {
            "tags": []
          },
          "execution_count": 36
        }
      ]
    },
    {
      "cell_type": "code",
      "metadata": {
        "id": "GCJVo_6t4rS0",
        "colab_type": "code",
        "outputId": "10ec1ed5-0e80-4f6e-e305-022b09033241",
        "colab": {
          "base_uri": "https://localhost:8080/",
          "height": 488
        }
      },
      "source": [
        "# Visualize\n",
        "plt.figure(figsize=(18, 6))\n",
        "sns.barplot(x = 'EmployeeFullName', y = 'TotalDue', data = sales_employees)\n",
        "plt.xticks(rotation = 45)\n",
        "plt.xlabel(\"Channel Type\")\n",
        "plt.ylabel(\"Revenue\")\n",
        "plt.title(\"B2B Revenue by Sales Person\")\n",
        "plt.show()"
      ],
      "execution_count": 37,
      "outputs": [
        {
          "output_type": "display_data",
          "data": {
            "image/png": "[encoded data removed]",
            "text/plain": [
              "<Figure size 1296x432 with 1 Axes>"
            ]
          },
          "metadata": {
            "tags": [],
            "needs_background": "light"
          }
        }
      ]
    },
    {
      "cell_type": "code",
      "metadata": {
        "id": "JYIPZ1TL4rPp",
        "colab_type": "code",
        "outputId": "5005870b-6aa4-4760-be8c-0d519856afcf",
        "colab": {
          "base_uri": "https://localhost:8080/",
          "height": 204
        }
      },
      "source": [
        "# Group by employee performance and year\n",
        "sales_employees = sales_customers_date.groupby(['EmployeeFullName', 'Order_Year']).sum().reset_index()\n",
        "sales_employees.head()"
      ],
      "execution_count": 38,
      "outputs": [
        {
          "output_type": "execute_result",
          "data": {
            "text/html": [
              "<div>\n",
              "<style scoped>\n",
              "    .dataframe tbody tr th:only-of-type {\n",
              "        vertical-align: middle;\n",
              "    }\n",
              "\n",
              "    .dataframe tbody tr th {\n",
              "        vertical-align: top;\n",
              "    }\n",
              "\n",
              "    .dataframe thead th {\n",
              "        text-align: right;\n",
              "    }\n",
              "</style>\n",
              "<table border=\"1\" class=\"dataframe\">\n",
              "  <thead>\n",
              "    <tr style=\"text-align: right;\">\n",
              "      <th></th>\n",
              "      <th>EmployeeFullName</th>\n",
              "      <th>Order_Year</th>\n",
              "      <th>SalesOrderID</th>\n",
              "      <th>TotalDue</th>\n",
              "      <th>NumberofItems</th>\n",
              "    </tr>\n",
              "  </thead>\n",
              "  <tbody>\n",
              "    <tr>\n",
              "      <th>0</th>\n",
              "      <td>Amy Alberts</td>\n",
              "      <td>2012</td>\n",
              "      <td>335313</td>\n",
              "      <td>1.306670e+05</td>\n",
              "      <td>103</td>\n",
              "    </tr>\n",
              "    <tr>\n",
              "      <th>1</th>\n",
              "      <td>Amy Alberts</td>\n",
              "      <td>2013</td>\n",
              "      <td>1618710</td>\n",
              "      <td>6.320026e+05</td>\n",
              "      <td>453</td>\n",
              "    </tr>\n",
              "    <tr>\n",
              "      <th>2</th>\n",
              "      <td>Amy Alberts</td>\n",
              "      <td>2014</td>\n",
              "      <td>201955</td>\n",
              "      <td>6.374784e+04</td>\n",
              "      <td>30</td>\n",
              "    </tr>\n",
              "    <tr>\n",
              "      <th>3</th>\n",
              "      <td>David Campbell</td>\n",
              "      <td>2011</td>\n",
              "      <td>1242002</td>\n",
              "      <td>6.756637e+05</td>\n",
              "      <td>220</td>\n",
              "    </tr>\n",
              "    <tr>\n",
              "      <th>4</th>\n",
              "      <td>David Campbell</td>\n",
              "      <td>2012</td>\n",
              "      <td>2978792</td>\n",
              "      <td>1.453583e+06</td>\n",
              "      <td>741</td>\n",
              "    </tr>\n",
              "  </tbody>\n",
              "</table>\n",
              "</div>"
            ],
            "text/plain": [
              "  EmployeeFullName  Order_Year  SalesOrderID      TotalDue  NumberofItems\n",
              "0      Amy Alberts        2012        335313  1.306670e+05            103\n",
              "1      Amy Alberts        2013       1618710  6.320026e+05            453\n",
              "2      Amy Alberts        2014        201955  6.374784e+04             30\n",
              "3   David Campbell        2011       1242002  6.756637e+05            220\n",
              "4   David Campbell        2012       2978792  1.453583e+06            741"
            ]
          },
          "metadata": {
            "tags": []
          },
          "execution_count": 38
        }
      ]
    },
    {
      "cell_type": "code",
      "metadata": {
        "id": "AYbLj8wHF7Id",
        "colab_type": "code",
        "outputId": "6e2df46a-83d4-4a49-e4aa-eb0a683a4f24",
        "colab": {
          "base_uri": "https://localhost:8080/",
          "height": 204
        }
      },
      "source": [
        "# Sort to make it easier to visualize\n",
        "sales_employees.sort_values(['Order_Year','TotalDue'], ascending=True, inplace = True)\n",
        "sales_employees.head()"
      ],
      "execution_count": 39,
      "outputs": [
        {
          "output_type": "execute_result",
          "data": {
            "text/html": [
              "<div>\n",
              "<style scoped>\n",
              "    .dataframe tbody tr th:only-of-type {\n",
              "        vertical-align: middle;\n",
              "    }\n",
              "\n",
              "    .dataframe tbody tr th {\n",
              "        vertical-align: top;\n",
              "    }\n",
              "\n",
              "    .dataframe thead th {\n",
              "        text-align: right;\n",
              "    }\n",
              "</style>\n",
              "<table border=\"1\" class=\"dataframe\">\n",
              "  <thead>\n",
              "    <tr style=\"text-align: right;\">\n",
              "      <th></th>\n",
              "      <th>EmployeeFullName</th>\n",
              "      <th>Order_Year</th>\n",
              "      <th>SalesOrderID</th>\n",
              "      <th>TotalDue</th>\n",
              "      <th>NumberofItems</th>\n",
              "    </tr>\n",
              "  </thead>\n",
              "  <tbody>\n",
              "    <tr>\n",
              "      <th>45</th>\n",
              "      <td>Stephen Jiang</td>\n",
              "      <td>2011</td>\n",
              "      <td>176971</td>\n",
              "      <td>32567.9155</td>\n",
              "      <td>17</td>\n",
              "    </tr>\n",
              "    <tr>\n",
              "      <th>7</th>\n",
              "      <td>Garrett Vargas</td>\n",
              "      <td>2011</td>\n",
              "      <td>1329262</td>\n",
              "      <td>563326.5478</td>\n",
              "      <td>284</td>\n",
              "    </tr>\n",
              "    <tr>\n",
              "      <th>3</th>\n",
              "      <td>David Campbell</td>\n",
              "      <td>2011</td>\n",
              "      <td>1242002</td>\n",
              "      <td>675663.6940</td>\n",
              "      <td>220</td>\n",
              "    </tr>\n",
              "    <tr>\n",
              "      <th>32</th>\n",
              "      <td>Pamela Ansman-Wolfe</td>\n",
              "      <td>2011</td>\n",
              "      <td>974811</td>\n",
              "      <td>730273.4889</td>\n",
              "      <td>273</td>\n",
              "    </tr>\n",
              "    <tr>\n",
              "      <th>28</th>\n",
              "      <td>Michael Blythe</td>\n",
              "      <td>2011</td>\n",
              "      <td>2882387</td>\n",
              "      <td>986298.0902</td>\n",
              "      <td>623</td>\n",
              "    </tr>\n",
              "  </tbody>\n",
              "</table>\n",
              "</div>"
            ],
            "text/plain": [
              "       EmployeeFullName  Order_Year  SalesOrderID     TotalDue  NumberofItems\n",
              "45        Stephen Jiang        2011        176971   32567.9155             17\n",
              "7        Garrett Vargas        2011       1329262  563326.5478            284\n",
              "3        David Campbell        2011       1242002  675663.6940            220\n",
              "32  Pamela Ansman-Wolfe        2011        974811  730273.4889            273\n",
              "28       Michael Blythe        2011       2882387  986298.0902            623"
            ]
          },
          "metadata": {
            "tags": []
          },
          "execution_count": 39
        }
      ]
    },
    {
      "cell_type": "code",
      "metadata": {
        "id": "fCuXVq0l4rLx",
        "colab_type": "code",
        "colab": {}
      },
      "source": [
        "# Who was the best last year?\n",
        "sales_employees_2013 = sales_employees[sales_employees['Order_Year'] == 2013]"
      ],
      "execution_count": 0,
      "outputs": []
    },
    {
      "cell_type": "code",
      "metadata": {
        "id": "OEy96D3W4rJC",
        "colab_type": "code",
        "outputId": "f9e91443-5d67-4234-c391-9f4f590e3763",
        "colab": {
          "base_uri": "https://localhost:8080/",
          "height": 488
        }
      },
      "source": [
        "# Visualize\n",
        "plt.figure(figsize=(18, 6))\n",
        "sns.barplot(x = 'EmployeeFullName', y = 'TotalDue', data = sales_employees_2013)\n",
        "plt.xticks(rotation = 45)\n",
        "plt.xlabel(\"Channel Type\")\n",
        "plt.ylabel(\"Revenue\")\n",
        "plt.title(\"B2B Revenue by Sales Person\")\n",
        "plt.show()"
      ],
      "execution_count": 41,
      "outputs": [
        {
          "output_type": "display_data",
          "data": {
            "image/png": "[encoded data removed]",
            "text/plain": [
              "<Figure size 1296x432 with 1 Axes>"
            ]
          },
          "metadata": {
            "tags": [],
            "needs_background": "light"
          }
        }
      ]
    },
    {
      "cell_type": "markdown",
      "metadata": {
        "id": "pYDKDX3x6cXR",
        "colab_type": "text"
      },
      "source": [
        "### Q&A time!"
      ]
    },
    {
      "cell_type": "markdown",
      "metadata": {
        "id": "ZiWyqK7RIelL",
        "colab_type": "text"
      },
      "source": [
        "### _Take-home question: Who were the highest earning (in compensation) employees in 2012?_"
      ]
    },
    {
      "cell_type": "markdown",
      "metadata": {
        "id": "QMAuLfrnnPBq",
        "colab_type": "text"
      },
      "source": [
        "**Clues:**\n",
        "- Compensation = Sales generated * Commission\n",
        "- You need to use the all four sheets\n",
        "- Sort your results by the amount of commission earned \n",
        "\n",
        "**Bonus points if:**\n",
        "- You make your chart extra pretty\n",
        "- Use syntax not covered in this session\n",
        "\n",
        "**Submission details:**\n",
        "- Share with us a code snippet with your output on LinkedIn, Twitter or Facebook\n",
        "- Tag us on `@DataCamp` with the hashtag `#datacamplive`\n"
      ]
    },
    {
      "cell_type": "markdown",
      "metadata": {
        "id": "lRhLFkXRGQtc",
        "colab_type": "text"
      },
      "source": [
        "**HOMEWORK: Defining steps to answer the question \"Who were the highest earning (in compensation) employees in 2012?\":**\n",
        "1. create a employee full name column in employee table\n",
        "\n",
        "2. get sales_customers_date data and merge with employee table (on Employee Full name) = Employee_sales_compensation \n",
        "\n",
        "3. create a Compensation column  (Sales * Commission) at Employee_sales_compensation\n",
        "\n",
        "4. drop unnecessary columns of Employee_sales_compensation\n",
        "\n",
        "5.  sort Employee_sales_compensation by Year and Compensation \n",
        "\n",
        "6. Create a Employee_sales_compensation_2012 by  selecting 2012 Employee_sales_compensation_2012= Employee_sales_compensation[Employee_sales_compensation['Order_Year'] == 2012]\n",
        "\n",
        "7. Create visualization"
      ]
    },
    {
      "cell_type": "code",
      "metadata": {
        "id": "QfcUhm5MJKXX",
        "colab_type": "code",
        "colab": {}
      },
      "source": [
        "#step1\n",
        "employees['EmployeeFullName'] = employees['FullName']"
      ],
      "execution_count": 0,
      "outputs": []
    },
    {
      "cell_type": "code",
      "metadata": {
        "id": "eYjY1VkXK2Vj",
        "colab_type": "code",
        "colab": {
          "base_uri": "https://localhost:8080/",
          "height": 204
        },
        "outputId": "f2ac8d10-98f9-4dd7-dbe3-02eeab469304"
      },
      "source": [
        "employees = employees.drop(['FullName'], axis = 1)\n",
        "employees.head()"
      ],
      "execution_count": 47,
      "outputs": [
        {
          "output_type": "execute_result",
          "data": {
            "text/html": [
              "<div>\n",
              "<style scoped>\n",
              "    .dataframe tbody tr th:only-of-type {\n",
              "        vertical-align: middle;\n",
              "    }\n",
              "\n",
              "    .dataframe tbody tr th {\n",
              "        vertical-align: top;\n",
              "    }\n",
              "\n",
              "    .dataframe thead th {\n",
              "        text-align: right;\n",
              "    }\n",
              "</style>\n",
              "<table border=\"1\" class=\"dataframe\">\n",
              "  <thead>\n",
              "    <tr style=\"text-align: right;\">\n",
              "      <th></th>\n",
              "      <th>FirstName</th>\n",
              "      <th>LastName</th>\n",
              "      <th>CountryCode</th>\n",
              "      <th>RegionName</th>\n",
              "      <th>CommissionPct</th>\n",
              "      <th>EmployeeFullName</th>\n",
              "    </tr>\n",
              "  </thead>\n",
              "  <tbody>\n",
              "    <tr>\n",
              "      <th>0</th>\n",
              "      <td>Amy</td>\n",
              "      <td>Alberts</td>\n",
              "      <td>GB</td>\n",
              "      <td>United Kingdom</td>\n",
              "      <td>0.000</td>\n",
              "      <td>Amy Alberts</td>\n",
              "    </tr>\n",
              "    <tr>\n",
              "      <th>1</th>\n",
              "      <td>David</td>\n",
              "      <td>Campbell</td>\n",
              "      <td>US</td>\n",
              "      <td>Northwest</td>\n",
              "      <td>0.012</td>\n",
              "      <td>David Campbell</td>\n",
              "    </tr>\n",
              "    <tr>\n",
              "      <th>2</th>\n",
              "      <td>Garrett</td>\n",
              "      <td>Vargas</td>\n",
              "      <td>CA</td>\n",
              "      <td>Canada</td>\n",
              "      <td>0.010</td>\n",
              "      <td>Garrett Vargas</td>\n",
              "    </tr>\n",
              "    <tr>\n",
              "      <th>3</th>\n",
              "      <td>Jae</td>\n",
              "      <td>Pak</td>\n",
              "      <td>CA</td>\n",
              "      <td>Canada</td>\n",
              "      <td>0.020</td>\n",
              "      <td>Jae Pak</td>\n",
              "    </tr>\n",
              "    <tr>\n",
              "      <th>4</th>\n",
              "      <td>Jillian</td>\n",
              "      <td>Carson</td>\n",
              "      <td>US</td>\n",
              "      <td>Southwest</td>\n",
              "      <td>0.015</td>\n",
              "      <td>Jillian Carson</td>\n",
              "    </tr>\n",
              "  </tbody>\n",
              "</table>\n",
              "</div>"
            ],
            "text/plain": [
              "  FirstName  LastName  ... CommissionPct EmployeeFullName\n",
              "0       Amy   Alberts  ...         0.000      Amy Alberts\n",
              "1     David  Campbell  ...         0.012   David Campbell\n",
              "2   Garrett    Vargas  ...         0.010   Garrett Vargas\n",
              "3       Jae       Pak  ...         0.020          Jae Pak\n",
              "4   Jillian    Carson  ...         0.015   Jillian Carson\n",
              "\n",
              "[5 rows x 6 columns]"
            ]
          },
          "metadata": {
            "tags": []
          },
          "execution_count": 47
        }
      ]
    },
    {
      "cell_type": "code",
      "metadata": {
        "id": "eJdITdU0Kz0T",
        "colab_type": "code",
        "colab": {
          "base_uri": "https://localhost:8080/",
          "height": 309
        },
        "outputId": "5235bb3b-30bc-4de7-8aed-03eb1bb27baf"
      },
      "source": [
        "#Step2\n",
        "Employee_sales_compensation = sales_customers_date.merge(employees, on='EmployeeFullName', how='left')\n",
        "Employee_sales_compensation.head()"
      ],
      "execution_count": 49,
      "outputs": [
        {
          "output_type": "execute_result",
          "data": {
            "text/html": [
              "<div>\n",
              "<style scoped>\n",
              "    .dataframe tbody tr th:only-of-type {\n",
              "        vertical-align: middle;\n",
              "    }\n",
              "\n",
              "    .dataframe tbody tr th {\n",
              "        vertical-align: top;\n",
              "    }\n",
              "\n",
              "    .dataframe thead th {\n",
              "        text-align: right;\n",
              "    }\n",
              "</style>\n",
              "<table border=\"1\" class=\"dataframe\">\n",
              "  <thead>\n",
              "    <tr style=\"text-align: right;\">\n",
              "      <th></th>\n",
              "      <th>SalesOrderID</th>\n",
              "      <th>TotalDue</th>\n",
              "      <th>NumberofItems</th>\n",
              "      <th>OnlineOrderFlag</th>\n",
              "      <th>OrderDate</th>\n",
              "      <th>ShipDate</th>\n",
              "      <th>Order_Year</th>\n",
              "      <th>Order_YM</th>\n",
              "      <th>CustomerFirstName</th>\n",
              "      <th>CustomerLastName</th>\n",
              "      <th>EmployeeFirstName</th>\n",
              "      <th>EmployeeLastName</th>\n",
              "      <th>ChannelType</th>\n",
              "      <th>EmployeeFullName</th>\n",
              "      <th>FirstName</th>\n",
              "      <th>LastName</th>\n",
              "      <th>CountryCode</th>\n",
              "      <th>RegionName</th>\n",
              "      <th>CommissionPct</th>\n",
              "    </tr>\n",
              "  </thead>\n",
              "  <tbody>\n",
              "    <tr>\n",
              "      <th>0</th>\n",
              "      <td>43659</td>\n",
              "      <td>23153.2339</td>\n",
              "      <td>12</td>\n",
              "      <td>offline</td>\n",
              "      <td>2011-05-31</td>\n",
              "      <td>2011-06-07</td>\n",
              "      <td>2011</td>\n",
              "      <td>2011-05</td>\n",
              "      <td>NaN</td>\n",
              "      <td>NaN</td>\n",
              "      <td>Tsvi</td>\n",
              "      <td>Reiter</td>\n",
              "      <td>B2B</td>\n",
              "      <td>Tsvi Reiter</td>\n",
              "      <td>Tsvi</td>\n",
              "      <td>Reiter</td>\n",
              "      <td>US</td>\n",
              "      <td>Southeast</td>\n",
              "      <td>0.010</td>\n",
              "    </tr>\n",
              "    <tr>\n",
              "      <th>1</th>\n",
              "      <td>43660</td>\n",
              "      <td>1457.3288</td>\n",
              "      <td>2</td>\n",
              "      <td>offline</td>\n",
              "      <td>2011-05-31</td>\n",
              "      <td>2011-06-07</td>\n",
              "      <td>2011</td>\n",
              "      <td>2011-05</td>\n",
              "      <td>NaN</td>\n",
              "      <td>NaN</td>\n",
              "      <td>Tsvi</td>\n",
              "      <td>Reiter</td>\n",
              "      <td>B2B</td>\n",
              "      <td>Tsvi Reiter</td>\n",
              "      <td>Tsvi</td>\n",
              "      <td>Reiter</td>\n",
              "      <td>US</td>\n",
              "      <td>Southeast</td>\n",
              "      <td>0.010</td>\n",
              "    </tr>\n",
              "    <tr>\n",
              "      <th>2</th>\n",
              "      <td>43661</td>\n",
              "      <td>36865.8012</td>\n",
              "      <td>15</td>\n",
              "      <td>offline</td>\n",
              "      <td>2011-05-31</td>\n",
              "      <td>2011-06-07</td>\n",
              "      <td>2011</td>\n",
              "      <td>2011-05</td>\n",
              "      <td>NaN</td>\n",
              "      <td>NaN</td>\n",
              "      <td>José</td>\n",
              "      <td>Saraiva</td>\n",
              "      <td>B2B</td>\n",
              "      <td>José Saraiva</td>\n",
              "      <td>José</td>\n",
              "      <td>Saraiva</td>\n",
              "      <td>GB</td>\n",
              "      <td>United Kingdom</td>\n",
              "      <td>0.015</td>\n",
              "    </tr>\n",
              "    <tr>\n",
              "      <th>3</th>\n",
              "      <td>43662</td>\n",
              "      <td>32474.9324</td>\n",
              "      <td>22</td>\n",
              "      <td>offline</td>\n",
              "      <td>2011-05-31</td>\n",
              "      <td>2011-06-07</td>\n",
              "      <td>2011</td>\n",
              "      <td>2011-05</td>\n",
              "      <td>NaN</td>\n",
              "      <td>NaN</td>\n",
              "      <td>José</td>\n",
              "      <td>Saraiva</td>\n",
              "      <td>B2B</td>\n",
              "      <td>José Saraiva</td>\n",
              "      <td>José</td>\n",
              "      <td>Saraiva</td>\n",
              "      <td>GB</td>\n",
              "      <td>United Kingdom</td>\n",
              "      <td>0.015</td>\n",
              "    </tr>\n",
              "    <tr>\n",
              "      <th>4</th>\n",
              "      <td>43663</td>\n",
              "      <td>472.3108</td>\n",
              "      <td>1</td>\n",
              "      <td>offline</td>\n",
              "      <td>2011-05-31</td>\n",
              "      <td>2011-06-07</td>\n",
              "      <td>2011</td>\n",
              "      <td>2011-05</td>\n",
              "      <td>NaN</td>\n",
              "      <td>NaN</td>\n",
              "      <td>Linda</td>\n",
              "      <td>Mitchell</td>\n",
              "      <td>B2B</td>\n",
              "      <td>Linda Mitchell</td>\n",
              "      <td>Linda</td>\n",
              "      <td>Mitchell</td>\n",
              "      <td>US</td>\n",
              "      <td>Southwest</td>\n",
              "      <td>0.015</td>\n",
              "    </tr>\n",
              "  </tbody>\n",
              "</table>\n",
              "</div>"
            ],
            "text/plain": [
              "   SalesOrderID    TotalDue  ...      RegionName CommissionPct\n",
              "0         43659  23153.2339  ...       Southeast         0.010\n",
              "1         43660   1457.3288  ...       Southeast         0.010\n",
              "2         43661  36865.8012  ...  United Kingdom         0.015\n",
              "3         43662  32474.9324  ...  United Kingdom         0.015\n",
              "4         43663    472.3108  ...       Southwest         0.015\n",
              "\n",
              "[5 rows x 19 columns]"
            ]
          },
          "metadata": {
            "tags": []
          },
          "execution_count": 49
        }
      ]
    },
    {
      "cell_type": "code",
      "metadata": {
        "id": "BPNmWcewKj-1",
        "colab_type": "code",
        "colab": {
          "base_uri": "https://localhost:8080/",
          "height": 309
        },
        "outputId": "efb0f1c3-f557-49bb-b6d9-bd0c3b983d39"
      },
      "source": [
        "#Step3\n",
        "Employee_sales_compensation['Compensation'] = Employee_sales_compensation['CommissionPct'] * Employee_sales_compensation['TotalDue']\n",
        "Employee_sales_compensation.head()"
      ],
      "execution_count": 50,
      "outputs": [
        {
          "output_type": "execute_result",
          "data": {
            "text/html": [
              "<div>\n",
              "<style scoped>\n",
              "    .dataframe tbody tr th:only-of-type {\n",
              "        vertical-align: middle;\n",
              "    }\n",
              "\n",
              "    .dataframe tbody tr th {\n",
              "        vertical-align: top;\n",
              "    }\n",
              "\n",
              "    .dataframe thead th {\n",
              "        text-align: right;\n",
              "    }\n",
              "</style>\n",
              "<table border=\"1\" class=\"dataframe\">\n",
              "  <thead>\n",
              "    <tr style=\"text-align: right;\">\n",
              "      <th></th>\n",
              "      <th>SalesOrderID</th>\n",
              "      <th>TotalDue</th>\n",
              "      <th>NumberofItems</th>\n",
              "      <th>OnlineOrderFlag</th>\n",
              "      <th>OrderDate</th>\n",
              "      <th>ShipDate</th>\n",
              "      <th>Order_Year</th>\n",
              "      <th>Order_YM</th>\n",
              "      <th>CustomerFirstName</th>\n",
              "      <th>CustomerLastName</th>\n",
              "      <th>EmployeeFirstName</th>\n",
              "      <th>EmployeeLastName</th>\n",
              "      <th>ChannelType</th>\n",
              "      <th>EmployeeFullName</th>\n",
              "      <th>FirstName</th>\n",
              "      <th>LastName</th>\n",
              "      <th>CountryCode</th>\n",
              "      <th>RegionName</th>\n",
              "      <th>CommissionPct</th>\n",
              "      <th>Compensation</th>\n",
              "    </tr>\n",
              "  </thead>\n",
              "  <tbody>\n",
              "    <tr>\n",
              "      <th>0</th>\n",
              "      <td>43659</td>\n",
              "      <td>23153.2339</td>\n",
              "      <td>12</td>\n",
              "      <td>offline</td>\n",
              "      <td>2011-05-31</td>\n",
              "      <td>2011-06-07</td>\n",
              "      <td>2011</td>\n",
              "      <td>2011-05</td>\n",
              "      <td>NaN</td>\n",
              "      <td>NaN</td>\n",
              "      <td>Tsvi</td>\n",
              "      <td>Reiter</td>\n",
              "      <td>B2B</td>\n",
              "      <td>Tsvi Reiter</td>\n",
              "      <td>Tsvi</td>\n",
              "      <td>Reiter</td>\n",
              "      <td>US</td>\n",
              "      <td>Southeast</td>\n",
              "      <td>0.010</td>\n",
              "      <td>231.532339</td>\n",
              "    </tr>\n",
              "    <tr>\n",
              "      <th>1</th>\n",
              "      <td>43660</td>\n",
              "      <td>1457.3288</td>\n",
              "      <td>2</td>\n",
              "      <td>offline</td>\n",
              "      <td>2011-05-31</td>\n",
              "      <td>2011-06-07</td>\n",
              "      <td>2011</td>\n",
              "      <td>2011-05</td>\n",
              "      <td>NaN</td>\n",
              "      <td>NaN</td>\n",
              "      <td>Tsvi</td>\n",
              "      <td>Reiter</td>\n",
              "      <td>B2B</td>\n",
              "      <td>Tsvi Reiter</td>\n",
              "      <td>Tsvi</td>\n",
              "      <td>Reiter</td>\n",
              "      <td>US</td>\n",
              "      <td>Southeast</td>\n",
              "      <td>0.010</td>\n",
              "      <td>14.573288</td>\n",
              "    </tr>\n",
              "    <tr>\n",
              "      <th>2</th>\n",
              "      <td>43661</td>\n",
              "      <td>36865.8012</td>\n",
              "      <td>15</td>\n",
              "      <td>offline</td>\n",
              "      <td>2011-05-31</td>\n",
              "      <td>2011-06-07</td>\n",
              "      <td>2011</td>\n",
              "      <td>2011-05</td>\n",
              "      <td>NaN</td>\n",
              "      <td>NaN</td>\n",
              "      <td>José</td>\n",
              "      <td>Saraiva</td>\n",
              "      <td>B2B</td>\n",
              "      <td>José Saraiva</td>\n",
              "      <td>José</td>\n",
              "      <td>Saraiva</td>\n",
              "      <td>GB</td>\n",
              "      <td>United Kingdom</td>\n",
              "      <td>0.015</td>\n",
              "      <td>552.987018</td>\n",
              "    </tr>\n",
              "    <tr>\n",
              "      <th>3</th>\n",
              "      <td>43662</td>\n",
              "      <td>32474.9324</td>\n",
              "      <td>22</td>\n",
              "      <td>offline</td>\n",
              "      <td>2011-05-31</td>\n",
              "      <td>2011-06-07</td>\n",
              "      <td>2011</td>\n",
              "      <td>2011-05</td>\n",
              "      <td>NaN</td>\n",
              "      <td>NaN</td>\n",
              "      <td>José</td>\n",
              "      <td>Saraiva</td>\n",
              "      <td>B2B</td>\n",
              "      <td>José Saraiva</td>\n",
              "      <td>José</td>\n",
              "      <td>Saraiva</td>\n",
              "      <td>GB</td>\n",
              "      <td>United Kingdom</td>\n",
              "      <td>0.015</td>\n",
              "      <td>487.123986</td>\n",
              "    </tr>\n",
              "    <tr>\n",
              "      <th>4</th>\n",
              "      <td>43663</td>\n",
              "      <td>472.3108</td>\n",
              "      <td>1</td>\n",
              "      <td>offline</td>\n",
              "      <td>2011-05-31</td>\n",
              "      <td>2011-06-07</td>\n",
              "      <td>2011</td>\n",
              "      <td>2011-05</td>\n",
              "      <td>NaN</td>\n",
              "      <td>NaN</td>\n",
              "      <td>Linda</td>\n",
              "      <td>Mitchell</td>\n",
              "      <td>B2B</td>\n",
              "      <td>Linda Mitchell</td>\n",
              "      <td>Linda</td>\n",
              "      <td>Mitchell</td>\n",
              "      <td>US</td>\n",
              "      <td>Southwest</td>\n",
              "      <td>0.015</td>\n",
              "      <td>7.084662</td>\n",
              "    </tr>\n",
              "  </tbody>\n",
              "</table>\n",
              "</div>"
            ],
            "text/plain": [
              "   SalesOrderID    TotalDue  ...  CommissionPct Compensation\n",
              "0         43659  23153.2339  ...          0.010   231.532339\n",
              "1         43660   1457.3288  ...          0.010    14.573288\n",
              "2         43661  36865.8012  ...          0.015   552.987018\n",
              "3         43662  32474.9324  ...          0.015   487.123986\n",
              "4         43663    472.3108  ...          0.015     7.084662\n",
              "\n",
              "[5 rows x 20 columns]"
            ]
          },
          "metadata": {
            "tags": []
          },
          "execution_count": 50
        }
      ]
    },
    {
      "cell_type": "code",
      "metadata": {
        "id": "nfNhUohWKi7I",
        "colab_type": "code",
        "colab": {
          "base_uri": "https://localhost:8080/",
          "height": 309
        },
        "outputId": "3a5c346b-a3f0-4462-94aa-3af5b3f6784d"
      },
      "source": [
        "#Step4 - dropping unnecessary columns\n",
        "Employee_sales_compensation = Employee_sales_compensation.drop(['EmployeeFirstName', 'EmployeeLastName', 'FirstName', 'LastName'], axis = 1)\n",
        "Employee_sales_compensation.head()"
      ],
      "execution_count": 52,
      "outputs": [
        {
          "output_type": "execute_result",
          "data": {
            "text/html": [
              "<div>\n",
              "<style scoped>\n",
              "    .dataframe tbody tr th:only-of-type {\n",
              "        vertical-align: middle;\n",
              "    }\n",
              "\n",
              "    .dataframe tbody tr th {\n",
              "        vertical-align: top;\n",
              "    }\n",
              "\n",
              "    .dataframe thead th {\n",
              "        text-align: right;\n",
              "    }\n",
              "</style>\n",
              "<table border=\"1\" class=\"dataframe\">\n",
              "  <thead>\n",
              "    <tr style=\"text-align: right;\">\n",
              "      <th></th>\n",
              "      <th>SalesOrderID</th>\n",
              "      <th>TotalDue</th>\n",
              "      <th>NumberofItems</th>\n",
              "      <th>OnlineOrderFlag</th>\n",
              "      <th>OrderDate</th>\n",
              "      <th>ShipDate</th>\n",
              "      <th>Order_Year</th>\n",
              "      <th>Order_YM</th>\n",
              "      <th>CustomerFirstName</th>\n",
              "      <th>CustomerLastName</th>\n",
              "      <th>ChannelType</th>\n",
              "      <th>EmployeeFullName</th>\n",
              "      <th>CountryCode</th>\n",
              "      <th>RegionName</th>\n",
              "      <th>CommissionPct</th>\n",
              "      <th>Compensation</th>\n",
              "    </tr>\n",
              "  </thead>\n",
              "  <tbody>\n",
              "    <tr>\n",
              "      <th>0</th>\n",
              "      <td>43659</td>\n",
              "      <td>23153.2339</td>\n",
              "      <td>12</td>\n",
              "      <td>offline</td>\n",
              "      <td>2011-05-31</td>\n",
              "      <td>2011-06-07</td>\n",
              "      <td>2011</td>\n",
              "      <td>2011-05</td>\n",
              "      <td>NaN</td>\n",
              "      <td>NaN</td>\n",
              "      <td>B2B</td>\n",
              "      <td>Tsvi Reiter</td>\n",
              "      <td>US</td>\n",
              "      <td>Southeast</td>\n",
              "      <td>0.010</td>\n",
              "      <td>231.532339</td>\n",
              "    </tr>\n",
              "    <tr>\n",
              "      <th>1</th>\n",
              "      <td>43660</td>\n",
              "      <td>1457.3288</td>\n",
              "      <td>2</td>\n",
              "      <td>offline</td>\n",
              "      <td>2011-05-31</td>\n",
              "      <td>2011-06-07</td>\n",
              "      <td>2011</td>\n",
              "      <td>2011-05</td>\n",
              "      <td>NaN</td>\n",
              "      <td>NaN</td>\n",
              "      <td>B2B</td>\n",
              "      <td>Tsvi Reiter</td>\n",
              "      <td>US</td>\n",
              "      <td>Southeast</td>\n",
              "      <td>0.010</td>\n",
              "      <td>14.573288</td>\n",
              "    </tr>\n",
              "    <tr>\n",
              "      <th>2</th>\n",
              "      <td>43661</td>\n",
              "      <td>36865.8012</td>\n",
              "      <td>15</td>\n",
              "      <td>offline</td>\n",
              "      <td>2011-05-31</td>\n",
              "      <td>2011-06-07</td>\n",
              "      <td>2011</td>\n",
              "      <td>2011-05</td>\n",
              "      <td>NaN</td>\n",
              "      <td>NaN</td>\n",
              "      <td>B2B</td>\n",
              "      <td>José Saraiva</td>\n",
              "      <td>GB</td>\n",
              "      <td>United Kingdom</td>\n",
              "      <td>0.015</td>\n",
              "      <td>552.987018</td>\n",
              "    </tr>\n",
              "    <tr>\n",
              "      <th>3</th>\n",
              "      <td>43662</td>\n",
              "      <td>32474.9324</td>\n",
              "      <td>22</td>\n",
              "      <td>offline</td>\n",
              "      <td>2011-05-31</td>\n",
              "      <td>2011-06-07</td>\n",
              "      <td>2011</td>\n",
              "      <td>2011-05</td>\n",
              "      <td>NaN</td>\n",
              "      <td>NaN</td>\n",
              "      <td>B2B</td>\n",
              "      <td>José Saraiva</td>\n",
              "      <td>GB</td>\n",
              "      <td>United Kingdom</td>\n",
              "      <td>0.015</td>\n",
              "      <td>487.123986</td>\n",
              "    </tr>\n",
              "    <tr>\n",
              "      <th>4</th>\n",
              "      <td>43663</td>\n",
              "      <td>472.3108</td>\n",
              "      <td>1</td>\n",
              "      <td>offline</td>\n",
              "      <td>2011-05-31</td>\n",
              "      <td>2011-06-07</td>\n",
              "      <td>2011</td>\n",
              "      <td>2011-05</td>\n",
              "      <td>NaN</td>\n",
              "      <td>NaN</td>\n",
              "      <td>B2B</td>\n",
              "      <td>Linda Mitchell</td>\n",
              "      <td>US</td>\n",
              "      <td>Southwest</td>\n",
              "      <td>0.015</td>\n",
              "      <td>7.084662</td>\n",
              "    </tr>\n",
              "  </tbody>\n",
              "</table>\n",
              "</div>"
            ],
            "text/plain": [
              "   SalesOrderID    TotalDue  ...  CommissionPct Compensation\n",
              "0         43659  23153.2339  ...          0.010   231.532339\n",
              "1         43660   1457.3288  ...          0.010    14.573288\n",
              "2         43661  36865.8012  ...          0.015   552.987018\n",
              "3         43662  32474.9324  ...          0.015   487.123986\n",
              "4         43663    472.3108  ...          0.015     7.084662\n",
              "\n",
              "[5 rows x 16 columns]"
            ]
          },
          "metadata": {
            "tags": []
          },
          "execution_count": 52
        }
      ]
    },
    {
      "cell_type": "code",
      "metadata": {
        "id": "npo21FshNo6F",
        "colab_type": "code",
        "colab": {
          "base_uri": "https://localhost:8080/",
          "height": 309
        },
        "outputId": "914563c0-66ca-4093-e4e0-7414e267c578"
      },
      "source": [
        "#Step5 - sort Employee_sales_compensation by Year and Compensation\n",
        "Employee_sales_compensation.sort_values(['Order_Year', 'Compensation'], ascending=False, inplace=True)\n",
        "Employee_sales_compensation.head()"
      ],
      "execution_count": 63,
      "outputs": [
        {
          "output_type": "execute_result",
          "data": {
            "text/html": [
              "<div>\n",
              "<style scoped>\n",
              "    .dataframe tbody tr th:only-of-type {\n",
              "        vertical-align: middle;\n",
              "    }\n",
              "\n",
              "    .dataframe tbody tr th {\n",
              "        vertical-align: top;\n",
              "    }\n",
              "\n",
              "    .dataframe thead th {\n",
              "        text-align: right;\n",
              "    }\n",
              "</style>\n",
              "<table border=\"1\" class=\"dataframe\">\n",
              "  <thead>\n",
              "    <tr style=\"text-align: right;\">\n",
              "      <th></th>\n",
              "      <th>SalesOrderID</th>\n",
              "      <th>TotalDue</th>\n",
              "      <th>NumberofItems</th>\n",
              "      <th>OnlineOrderFlag</th>\n",
              "      <th>OrderDate</th>\n",
              "      <th>ShipDate</th>\n",
              "      <th>Order_Year</th>\n",
              "      <th>Order_YM</th>\n",
              "      <th>CustomerFirstName</th>\n",
              "      <th>CustomerLastName</th>\n",
              "      <th>ChannelType</th>\n",
              "      <th>EmployeeFullName</th>\n",
              "      <th>CountryCode</th>\n",
              "      <th>RegionName</th>\n",
              "      <th>CommissionPct</th>\n",
              "      <th>Compensation</th>\n",
              "    </tr>\n",
              "  </thead>\n",
              "  <tbody>\n",
              "    <tr>\n",
              "      <th>25849</th>\n",
              "      <td>69508</td>\n",
              "      <td>119641.1984</td>\n",
              "      <td>38</td>\n",
              "      <td>offline</td>\n",
              "      <td>2014-03-31</td>\n",
              "      <td>2014-04-07</td>\n",
              "      <td>2014</td>\n",
              "      <td>2014-03</td>\n",
              "      <td>NaN</td>\n",
              "      <td>NaN</td>\n",
              "      <td>B2B</td>\n",
              "      <td>Tete Mensa-Annan</td>\n",
              "      <td>US</td>\n",
              "      <td>Northwest</td>\n",
              "      <td>0.019</td>\n",
              "      <td>2273.182770</td>\n",
              "    </tr>\n",
              "    <tr>\n",
              "      <th>28188</th>\n",
              "      <td>71847</td>\n",
              "      <td>101382.7138</td>\n",
              "      <td>30</td>\n",
              "      <td>offline</td>\n",
              "      <td>2014-05-01</td>\n",
              "      <td>2014-05-08</td>\n",
              "      <td>2014</td>\n",
              "      <td>2014-05</td>\n",
              "      <td>NaN</td>\n",
              "      <td>NaN</td>\n",
              "      <td>B2B</td>\n",
              "      <td>Jae Pak</td>\n",
              "      <td>CA</td>\n",
              "      <td>Canada</td>\n",
              "      <td>0.020</td>\n",
              "      <td>2027.654276</td>\n",
              "    </tr>\n",
              "    <tr>\n",
              "      <th>25872</th>\n",
              "      <td>69531</td>\n",
              "      <td>126514.9931</td>\n",
              "      <td>37</td>\n",
              "      <td>offline</td>\n",
              "      <td>2014-03-31</td>\n",
              "      <td>2014-04-07</td>\n",
              "      <td>2014</td>\n",
              "      <td>2014-03</td>\n",
              "      <td>NaN</td>\n",
              "      <td>NaN</td>\n",
              "      <td>B2B</td>\n",
              "      <td>Ranjit Varkey Chudukatil</td>\n",
              "      <td>FR</td>\n",
              "      <td>France</td>\n",
              "      <td>0.016</td>\n",
              "      <td>2024.239890</td>\n",
              "    </tr>\n",
              "    <tr>\n",
              "      <th>25876</th>\n",
              "      <td>69535</td>\n",
              "      <td>122916.4563</td>\n",
              "      <td>29</td>\n",
              "      <td>offline</td>\n",
              "      <td>2014-03-31</td>\n",
              "      <td>2014-04-07</td>\n",
              "      <td>2014</td>\n",
              "      <td>2014-03</td>\n",
              "      <td>NaN</td>\n",
              "      <td>NaN</td>\n",
              "      <td>B2B</td>\n",
              "      <td>Ranjit Varkey Chudukatil</td>\n",
              "      <td>FR</td>\n",
              "      <td>France</td>\n",
              "      <td>0.016</td>\n",
              "      <td>1966.663301</td>\n",
              "    </tr>\n",
              "    <tr>\n",
              "      <th>28182</th>\n",
              "      <td>71841</td>\n",
              "      <td>93791.2050</td>\n",
              "      <td>50</td>\n",
              "      <td>offline</td>\n",
              "      <td>2014-05-01</td>\n",
              "      <td>2014-05-08</td>\n",
              "      <td>2014</td>\n",
              "      <td>2014-05</td>\n",
              "      <td>NaN</td>\n",
              "      <td>NaN</td>\n",
              "      <td>B2B</td>\n",
              "      <td>Jae Pak</td>\n",
              "      <td>CA</td>\n",
              "      <td>Canada</td>\n",
              "      <td>0.020</td>\n",
              "      <td>1875.824100</td>\n",
              "    </tr>\n",
              "  </tbody>\n",
              "</table>\n",
              "</div>"
            ],
            "text/plain": [
              "       SalesOrderID     TotalDue  ...  CommissionPct Compensation\n",
              "25849         69508  119641.1984  ...          0.019  2273.182770\n",
              "28188         71847  101382.7138  ...          0.020  2027.654276\n",
              "25872         69531  126514.9931  ...          0.016  2024.239890\n",
              "25876         69535  122916.4563  ...          0.016  1966.663301\n",
              "28182         71841   93791.2050  ...          0.020  1875.824100\n",
              "\n",
              "[5 rows x 16 columns]"
            ]
          },
          "metadata": {
            "tags": []
          },
          "execution_count": 63
        }
      ]
    },
    {
      "cell_type": "code",
      "metadata": {
        "id": "wetHTJBHOQt9",
        "colab_type": "code",
        "colab": {
          "base_uri": "https://localhost:8080/",
          "height": 309
        },
        "outputId": "0891adf6-467c-4731-ec88-b1e53c5361a2"
      },
      "source": [
        "#Step6 - Create a Employee_sales_compensation_2012 by selecting 2012 \n",
        "Employee_sales_compensation_2012= Employee_sales_compensation[Employee_sales_compensation['Order_Year'] == 2012]\n",
        "Employee_sales_compensation_2012 = Employee_sales_compensation_2012.round(2)\n",
        "Employee_sales_compensation_2012.head()"
      ],
      "execution_count": 56,
      "outputs": [
        {
          "output_type": "execute_result",
          "data": {
            "text/html": [
              "<div>\n",
              "<style scoped>\n",
              "    .dataframe tbody tr th:only-of-type {\n",
              "        vertical-align: middle;\n",
              "    }\n",
              "\n",
              "    .dataframe tbody tr th {\n",
              "        vertical-align: top;\n",
              "    }\n",
              "\n",
              "    .dataframe thead th {\n",
              "        text-align: right;\n",
              "    }\n",
              "</style>\n",
              "<table border=\"1\" class=\"dataframe\">\n",
              "  <thead>\n",
              "    <tr style=\"text-align: right;\">\n",
              "      <th></th>\n",
              "      <th>SalesOrderID</th>\n",
              "      <th>TotalDue</th>\n",
              "      <th>NumberofItems</th>\n",
              "      <th>OnlineOrderFlag</th>\n",
              "      <th>OrderDate</th>\n",
              "      <th>ShipDate</th>\n",
              "      <th>Order_Year</th>\n",
              "      <th>Order_YM</th>\n",
              "      <th>CustomerFirstName</th>\n",
              "      <th>CustomerLastName</th>\n",
              "      <th>ChannelType</th>\n",
              "      <th>EmployeeFullName</th>\n",
              "      <th>CountryCode</th>\n",
              "      <th>RegionName</th>\n",
              "      <th>CommissionPct</th>\n",
              "      <th>Compensation</th>\n",
              "    </tr>\n",
              "  </thead>\n",
              "  <tbody>\n",
              "    <tr>\n",
              "      <th>2957</th>\n",
              "      <td>46616</td>\n",
              "      <td>170512.67</td>\n",
              "      <td>65</td>\n",
              "      <td>offline</td>\n",
              "      <td>2012-05-30</td>\n",
              "      <td>2012-06-06</td>\n",
              "      <td>2012</td>\n",
              "      <td>2012-05</td>\n",
              "      <td>NaN</td>\n",
              "      <td>NaN</td>\n",
              "      <td>B2B</td>\n",
              "      <td>Jae Pak</td>\n",
              "      <td>CA</td>\n",
              "      <td>Canada</td>\n",
              "      <td>0.02</td>\n",
              "      <td>3410.25</td>\n",
              "    </tr>\n",
              "    <tr>\n",
              "      <th>2948</th>\n",
              "      <td>46607</td>\n",
              "      <td>135606.68</td>\n",
              "      <td>46</td>\n",
              "      <td>offline</td>\n",
              "      <td>2012-05-30</td>\n",
              "      <td>2012-06-06</td>\n",
              "      <td>2012</td>\n",
              "      <td>2012-05</td>\n",
              "      <td>NaN</td>\n",
              "      <td>NaN</td>\n",
              "      <td>B2B</td>\n",
              "      <td>Jae Pak</td>\n",
              "      <td>CA</td>\n",
              "      <td>Canada</td>\n",
              "      <td>0.02</td>\n",
              "      <td>2712.13</td>\n",
              "    </tr>\n",
              "    <tr>\n",
              "      <th>3322</th>\n",
              "      <td>46981</td>\n",
              "      <td>166537.08</td>\n",
              "      <td>65</td>\n",
              "      <td>offline</td>\n",
              "      <td>2012-06-30</td>\n",
              "      <td>2012-07-07</td>\n",
              "      <td>2012</td>\n",
              "      <td>2012-06</td>\n",
              "      <td>NaN</td>\n",
              "      <td>NaN</td>\n",
              "      <td>B2B</td>\n",
              "      <td>Ranjit Varkey Chudukatil</td>\n",
              "      <td>FR</td>\n",
              "      <td>France</td>\n",
              "      <td>0.02</td>\n",
              "      <td>2664.59</td>\n",
              "    </tr>\n",
              "    <tr>\n",
              "      <th>2986</th>\n",
              "      <td>46645</td>\n",
              "      <td>114197.97</td>\n",
              "      <td>35</td>\n",
              "      <td>offline</td>\n",
              "      <td>2012-05-30</td>\n",
              "      <td>2012-06-06</td>\n",
              "      <td>2012</td>\n",
              "      <td>2012-05</td>\n",
              "      <td>NaN</td>\n",
              "      <td>NaN</td>\n",
              "      <td>B2B</td>\n",
              "      <td>Jae Pak</td>\n",
              "      <td>CA</td>\n",
              "      <td>Canada</td>\n",
              "      <td>0.02</td>\n",
              "      <td>2283.96</td>\n",
              "    </tr>\n",
              "    <tr>\n",
              "      <th>3696</th>\n",
              "      <td>47355</td>\n",
              "      <td>145741.86</td>\n",
              "      <td>68</td>\n",
              "      <td>offline</td>\n",
              "      <td>2012-07-31</td>\n",
              "      <td>2012-08-07</td>\n",
              "      <td>2012</td>\n",
              "      <td>2012-07</td>\n",
              "      <td>NaN</td>\n",
              "      <td>NaN</td>\n",
              "      <td>B2B</td>\n",
              "      <td>Linda Mitchell</td>\n",
              "      <td>US</td>\n",
              "      <td>Southwest</td>\n",
              "      <td>0.02</td>\n",
              "      <td>2186.13</td>\n",
              "    </tr>\n",
              "  </tbody>\n",
              "</table>\n",
              "</div>"
            ],
            "text/plain": [
              "      SalesOrderID   TotalDue  ...  CommissionPct Compensation\n",
              "2957         46616  170512.67  ...           0.02      3410.25\n",
              "2948         46607  135606.68  ...           0.02      2712.13\n",
              "3322         46981  166537.08  ...           0.02      2664.59\n",
              "2986         46645  114197.97  ...           0.02      2283.96\n",
              "3696         47355  145741.86  ...           0.02      2186.13\n",
              "\n",
              "[5 rows x 16 columns]"
            ]
          },
          "metadata": {
            "tags": []
          },
          "execution_count": 56
        }
      ]
    },
    {
      "cell_type": "code",
      "metadata": {
        "id": "4awTsbysO63d",
        "colab_type": "code",
        "colab": {
          "base_uri": "https://localhost:8080/",
          "height": 448
        },
        "outputId": "4daeb928-9198-41d2-d801-280f1004e4ea"
      },
      "source": [
        "#Step7 -visualization of the results\n",
        "Employee_sales_compensation_2012.sort_values(['Compensation'], ascending = False, inplace= True)\n",
        "plt.figure(figsize=(20,6))\n",
        "sns.barplot(x = 'EmployeeFullName', y= 'Compensation', data = Employee_sales_compensation_2012)\n",
        "plt.xticks(rotation = 45)\n",
        "plt.xlabel(\"Employee\")\n",
        "plt.ylabel(\"Compensation in 2012\")\n",
        "plt.title('Highest earnings (in compensation) in 2012')\n",
        "plt.show()"
      ],
      "execution_count": 76,
      "outputs": [
        {
          "output_type": "display_data",
          "data": {
            "image/png": "[encoded data removed]",
            "text/plain": [
              "<Figure size 1440x432 with 1 Axes>"
            ]
          },
          "metadata": {
            "tags": [],
            "needs_background": "light"
          }
        }
      ]
    },
    {
      "cell_type": "code",
      "metadata": {
        "id": "TOueKuqLRh4H",
        "colab_type": "code",
        "colab": {
          "base_uri": "https://localhost:8080/",
          "height": 85
        },
        "outputId": "190a25df-0e56-496a-8abe-06391dd17897"
      },
      "source": [
        "print(Employee_sales_compensation_2012['EmployeeFullName'].unique())"
      ],
      "execution_count": 68,
      "outputs": [
        {
          "output_type": "stream",
          "text": [
            "['Jae Pak' 'Ranjit Varkey Chudukatil' 'Linda Mitchell' 'Jillian Carson'\n",
            " 'Michael Blythe' 'Tete Mensa-Annan' 'José Saraiva' 'Shu Ito'\n",
            " 'David Campbell' 'Tsvi Reiter' 'Pamela Ansman-Wolfe' 'Garrett Vargas'\n",
            " 'Amy Alberts' 'Stephen Jiang' nan]\n"
          ],
          "name": "stdout"
        }
      ]
    },
    {
      "cell_type": "code",
      "metadata": {
        "id": "7vhQkRLOTJ6e",
        "colab_type": "code",
        "colab": {
          "base_uri": "https://localhost:8080/",
          "height": 34
        },
        "outputId": "e712eb38-6872-48a3-9a62-b544952541c4"
      },
      "source": [
        "Employee_sales_compensation_2012['Compensation'].sum()\n"
      ],
      "execution_count": 69,
      "outputs": [
        {
          "output_type": "execute_result",
          "data": {
            "text/plain": [
              "411691.6500000001"
            ]
          },
          "metadata": {
            "tags": []
          },
          "execution_count": 69
        }
      ]
    },
    {
      "cell_type": "markdown",
      "metadata": {
        "id": "HCChlmoJT94b",
        "colab_type": "text"
      },
      "source": [
        ""
      ]
    },
    {
      "cell_type": "code",
      "metadata": {
        "id": "mbV3fCPoT_3M",
        "colab_type": "code",
        "colab": {
          "base_uri": "https://localhost:8080/",
          "height": 408
        },
        "outputId": "f42e9c4d-2b95-44ea-9f5f-7c48b6c9420f"
      },
      "source": [
        "Employee_sales_compensation_2012.info()\n"
      ],
      "execution_count": 72,
      "outputs": [
        {
          "output_type": "stream",
          "text": [
            "<class 'pandas.core.frame.DataFrame'>\n",
            "Int64Index: 3915 entries, 2957 to 5521\n",
            "Data columns (total 16 columns):\n",
            " #   Column             Non-Null Count  Dtype         \n",
            "---  ------             --------------  -----         \n",
            " 0   SalesOrderID       3915 non-null   int64         \n",
            " 1   TotalDue           3915 non-null   float64       \n",
            " 2   NumberofItems      3915 non-null   int64         \n",
            " 3   OnlineOrderFlag    3915 non-null   object        \n",
            " 4   OrderDate          3915 non-null   datetime64[ns]\n",
            " 5   ShipDate           3915 non-null   datetime64[ns]\n",
            " 6   Order_Year         3915 non-null   int64         \n",
            " 7   Order_YM           3915 non-null   object        \n",
            " 8   CustomerFirstName  1810 non-null   object        \n",
            " 9   CustomerLastName   1810 non-null   object        \n",
            " 10  ChannelType        3915 non-null   object        \n",
            " 11  EmployeeFullName   1172 non-null   object        \n",
            " 12  CountryCode        1172 non-null   object        \n",
            " 13  RegionName         1172 non-null   object        \n",
            " 14  CommissionPct      1172 non-null   float64       \n",
            " 15  Compensation       1172 non-null   float64       \n",
            "dtypes: datetime64[ns](2), float64(3), int64(3), object(8)\n",
            "memory usage: 680.0+ KB\n"
          ],
          "name": "stdout"
        }
      ]
    }
  ]
}